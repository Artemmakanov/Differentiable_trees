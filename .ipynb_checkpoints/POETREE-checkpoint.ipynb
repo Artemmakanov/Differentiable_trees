{
 "cells": [
  {
   "cell_type": "code",
   "execution_count": 1,
   "id": "886d4b7b",
   "metadata": {},
   "outputs": [],
   "source": [
    "import numpy as np\n",
    "import pandas as pd\n",
    "import jax.numpy as jnp\n",
    "from jax import grad, jit, vmap"
   ]
  },
  {
   "cell_type": "code",
   "execution_count": 2,
   "id": "3aab8336",
   "metadata": {},
   "outputs": [],
   "source": [
    "class Node:\n",
    "    \"\"\"\n",
    "    Class for Node with split\n",
    "    \"\"\"\n",
    "    def __init__(\n",
    "        self,\n",
    "        length_history,\n",
    "        length_observation,\n",
    "        status=None,\n",
    "        root=None,\n",
    "        index=None,\n",
    "        max_depth=None,\n",
    "        \n",
    "    ):\n",
    "        \n",
    "        # Savind data about length of vectors\n",
    "        self.length_history = length_history\n",
    "        self.length_observation = length_observation\n",
    "        \n",
    "        # Saving the hyperparameters\n",
    "        self.max_depth = max_depth if max_depth else 5\n",
    "        \n",
    "        # Setting index of elemnet\n",
    "        self.index = index if index else 0\n",
    "        self.depth = int(np.floor(np.log2(self.index + 2)))\n",
    "        self.status = status if status else \"node\"\n",
    "        \n",
    "    \n",
    "        # Init root with None\n",
    "        self.root = root\n",
    "        \n",
    "        # Init split weights and split bias\n",
    "#         self.w = np.random.sample(length_history + length_observation)\n",
    "#         self.b = np.random.rand()\n",
    "#         self.wb = np.random.sample(length_history + length_observation + 1)\n",
    "\n",
    "        \n",
    "    def init_node(self, index):\n",
    "        # Init childs with Leafs\n",
    "        self.l_child = \\\n",
    "            Node(self.length_history, \\\n",
    "                self.length_observation, \\\n",
    "                status='leaf',\\\n",
    "                root=self.root,\\\n",
    "                index=2*index + 1, \\\n",
    "                max_depth=self.max_depth)\n",
    "        self.r_child = \\\n",
    "            Node(self.length_history, \\\n",
    "                self.length_observation, \\\n",
    "                status='leaf',\\\n",
    "                root=self.root,\\\n",
    "                index=2*index + 2,\\\n",
    "                max_depth=self.max_depth)\n",
    "        \n",
    "        \n",
    "    \n",
    "    def predict(self, \n",
    "                observations: list,\n",
    "                next_history: list,\n",
    "                pred_index,\n",
    "                node_parameters):\n",
    "\n",
    "        current = self\n",
    "        index = 0\n",
    "        product_path = 1\n",
    "        l1_norm_sum = 0\n",
    "        \n",
    "        # проходим по дереву пока не упираемся в leaf\n",
    "        while current.status == 'node':\n",
    "            # use formula for probabilty\n",
    "#             probabilty = self.sigmoid(current.b + jnp.dot(current.w, jnp.concatenate((observations, history), axis=None)))\n",
    "            probabilty = \\\n",
    "                self.sigmoid(jnp.dot(node_parameters[index], \\\n",
    "                jnp.concatenate((observations, jnp.tanh(next_history[pred_index]), 1), axis=None)))\n",
    "            l1_norm_sum += jnp.sum(jnp.square(node_parameters[index]))\n",
    "#             print(float(probabilty))\n",
    "#             print(probabilty)\n",
    "#             probabilty = 0\n",
    "            \n",
    "            if probabilty > 0.5:\n",
    "                product_path = jnp.multiply(product_path, probabilty)\n",
    "                current = current.l_child\n",
    "                index = 2*index + 1\n",
    "            else:\n",
    "                product_path = jnp.multiply(product_path, 1 - probabilty)\n",
    "                current = current.r_child\n",
    "                index = 2*index + 2\n",
    "                \n",
    "            \n",
    "                \n",
    "        # возвращаем предсказанное действие, следующую историю, и предсказания относительно\n",
    "        # будущих наблюдений        \n",
    "#         return (jnp.tanh(action_parameters[index]), index, jnp.tanh(pred_observation[index]), product_path)\n",
    "        return index, product_path, l1_norm_sum               \n",
    "    \n",
    "    def sigmoid(self, value):\n",
    "        return 1 / (1 + jnp.exp(-value))\n",
    "\n"
   ]
  },
  {
   "cell_type": "code",
   "execution_count": 3,
   "id": "7ebb05c8",
   "metadata": {},
   "outputs": [],
   "source": [
    "def init_root(length_history, length_observation):\n",
    "    root = Node(length_history,length_observation)\n",
    "    root.root = root\n",
    "    root.init_node(root.index)\n",
    "    return root"
   ]
  },
  {
   "cell_type": "code",
   "execution_count": 4,
   "id": "0528a4f5",
   "metadata": {},
   "outputs": [],
   "source": [
    "root = init_root(length_history=10,length_observation=10)"
   ]
  },
  {
   "cell_type": "code",
   "execution_count": 5,
   "id": "1a3643d7",
   "metadata": {},
   "outputs": [],
   "source": [
    "root.l_child = Node(length_history=10,length_observation=10, root=root,index=root.l_child.index )\n",
    "root.l_child.init_node(root.l_child.index)"
   ]
  },
  {
   "cell_type": "code",
   "execution_count": 6,
   "id": "43e2be74",
   "metadata": {},
   "outputs": [],
   "source": [
    "root.r_child = Node(length_history=10,length_observation=10, root=root,index=root.r_child.index )\n",
    "root.r_child.init_node(root.r_child.index)"
   ]
  },
  {
   "cell_type": "code",
   "execution_count": 7,
   "id": "11f39c9f",
   "metadata": {},
   "outputs": [],
   "source": [
    "def softmax(vector):\n",
    "    sum_ = jnp.sum(jnp.exp(vector))\n",
    "    return jnp.exp(vector)/sum_"
   ]
  },
  {
   "cell_type": "code",
   "execution_count": 8,
   "id": "13faa848",
   "metadata": {},
   "outputs": [],
   "source": [
    "length_history = 10\n",
    "length_observation = 10\n",
    "max_depth = 3\n",
    "node_parameters = 2 * np.random.sample((2**max_depth - 1, length_history + length_observation + 1)) - 1\n",
    "action_parameters = 2 * np.random.sample((2**max_depth - 1, 2)) - 1\n",
    "next_history = 2 * np.random.sample((2**max_depth - 1, length_history)) - 1\n",
    "pred_observation = 100 * np.random.sample((2**max_depth -1, length_observation))"
   ]
  },
  {
   "cell_type": "code",
   "execution_count": 9,
   "id": "c5d0f81f",
   "metadata": {},
   "outputs": [
    {
     "data": {
      "text/plain": [
       "array([-0.87727088,  0.88825722])"
      ]
     },
     "execution_count": 9,
     "metadata": {},
     "output_type": "execute_result"
    }
   ],
   "source": [
    "action_parameters[0]"
   ]
  },
  {
   "cell_type": "code",
   "execution_count": 10,
   "id": "ff6b0f47",
   "metadata": {},
   "outputs": [
    {
     "data": {
      "text/plain": [
       "array([ 0.4317521 ,  0.27145478,  0.28385271,  0.93766197, -0.74674141,\n",
       "       -0.63809734,  0.42233557,  0.04765333, -0.52090349,  0.22621116,\n",
       "        0.72803344,  0.16298103,  0.03745352, -0.33811173,  0.55082402,\n",
       "       -0.46434567,  0.3277548 ,  0.68219854, -0.05521256, -0.47591801,\n",
       "        0.17982955])"
      ]
     },
     "execution_count": 10,
     "metadata": {},
     "output_type": "execute_result"
    }
   ],
   "source": [
    "node_parameters[0]"
   ]
  },
  {
   "cell_type": "code",
   "execution_count": 11,
   "id": "2b2a0d6c",
   "metadata": {},
   "outputs": [
    {
     "name": "stderr",
     "output_type": "stream",
     "text": [
      "WARNING:absl:No GPU/TPU found, falling back to CPU. (Set TF_CPP_MIN_LOG_LEVEL=0 and rerun for more info.)\n"
     ]
    }
   ],
   "source": [
    "initial_history = next_history[0]\n",
    "first_observation = 2 * np.random.sample(length_observation) - 1\n",
    "index, product_path, l1_norm_sum = \\\n",
    "                root.predict(first_observation,\n",
    "                next_history, \n",
    "                0,\n",
    "                node_parameters)\n",
    "\n"
   ]
  },
  {
   "cell_type": "code",
   "execution_count": 12,
   "id": "40596312",
   "metadata": {},
   "outputs": [
    {
     "data": {
      "text/plain": [
       "DeviceArray(12.587061, dtype=float32)"
      ]
     },
     "execution_count": 12,
     "metadata": {},
     "output_type": "execute_result"
    }
   ],
   "source": [
    "l1_norm_sum"
   ]
  },
  {
   "cell_type": "code",
   "execution_count": 13,
   "id": "a854d947",
   "metadata": {},
   "outputs": [
    {
     "data": {
      "text/plain": [
       "array([ 0.27325662, -0.51127618])"
      ]
     },
     "execution_count": 13,
     "metadata": {},
     "output_type": "execute_result"
    }
   ],
   "source": [
    "action_parameters[index]"
   ]
  },
  {
   "cell_type": "code",
   "execution_count": 14,
   "id": "e1c8d94c",
   "metadata": {},
   "outputs": [],
   "source": [
    "def to_actions(vector):\n",
    "    actions = {0: 'not fraud', 1: 'fraud'}\n",
    "#     print(jnp.argmax(vector))\n",
    "    return actions[int(jnp.argmax(vector))]"
   ]
  },
  {
   "cell_type": "code",
   "execution_count": 15,
   "id": "fce111ae",
   "metadata": {},
   "outputs": [],
   "source": [
    "def process(element):\n",
    "#     print(np.log2(element.index + 1))\n",
    "    print('\\t'*int(np.floor(np.log2(element.index+1))) + element.status, end='')\n",
    "    if element.status!='node':\n",
    "        print('\\t'*int(np.floor(np.log2(element.index+1))), end='')\n",
    "        to_actions(action_parameters[element.index])\n",
    "        print(to_actions(action_parameters[element.index]))\n",
    "        print()\n",
    "#         print(action_parameters[element.index])\n",
    "    if element.status=='node':\n",
    "        print(': some split')\n",
    "        process(element.l_child)\n",
    "        process(element.r_child)\n",
    "    "
   ]
  },
  {
   "cell_type": "code",
   "execution_count": 16,
   "id": "fff5a5f7",
   "metadata": {},
   "outputs": [
    {
     "name": "stdout",
     "output_type": "stream",
     "text": [
      "node: some split\n",
      "\tnode: some split\n",
      "\t\tleaf\t\tfraud\n",
      "\n",
      "\t\tleaf\t\tfraud\n",
      "\n",
      "\tnode: some split\n",
      "\t\tleaf\t\tnot fraud\n",
      "\n",
      "\t\tleaf\t\tfraud\n",
      "\n"
     ]
    }
   ],
   "source": [
    "process(root)"
   ]
  },
  {
   "cell_type": "code",
   "execution_count": null,
   "id": "50bee528",
   "metadata": {},
   "outputs": [],
   "source": []
  },
  {
   "cell_type": "code",
   "execution_count": null,
   "id": "3f002b39",
   "metadata": {},
   "outputs": [],
   "source": []
  },
  {
   "cell_type": "code",
   "execution_count": 17,
   "id": "94cabb02",
   "metadata": {},
   "outputs": [],
   "source": [
    "def loss_function(node_parameters,\n",
    "                    action_parameters,\n",
    "                    next_history,\n",
    "                    pred_observation, \n",
    "                    pred_index, \n",
    "                    observation, \n",
    "                    actions, \n",
    "                    delta1,\n",
    "                    delta2):\n",
    "    \n",
    "#     predicted_actions, next_history_predicted_index, pred_obs, product_path = \\\n",
    "    index, product_path, l1_norm_sum = \\\n",
    "        root.predict(observation,\n",
    "                    next_history,\n",
    "                    pred_index,\n",
    "                    node_parameters)\n",
    "    predicted_actions = action_parameters[index]\n",
    "    \n",
    "    pred_obs = pred_observation[index]\n",
    "    general_loss = - jnp.dot(product_path, jnp.sum(actions * jnp.log(softmax(predicted_actions))))\n",
    "    additional_loss = delta1 * jnp.sum(jnp.square(observation - pred_obs))\n",
    "    return general_loss + additional_loss + l1_norm_sum"
   ]
  },
  {
   "cell_type": "code",
   "execution_count": 18,
   "id": "83b9179f",
   "metadata": {},
   "outputs": [
    {
     "data": {
      "text/plain": [
       "DeviceArray(36.221844, dtype=float32)"
      ]
     },
     "execution_count": 18,
     "metadata": {},
     "output_type": "execute_result"
    }
   ],
   "source": [
    "actions = jnp.array([0, 1])\n",
    "delta1 = 0.001\n",
    "delta2 = 0.01\n",
    "pred_index = 0\n",
    "loss_function(node_parameters,\n",
    "                action_parameters,\n",
    "                next_history,\n",
    "                pred_observation,\n",
    "                pred_index,\n",
    "                first_observation,\n",
    "                actions,\n",
    "                delta1,\n",
    "                delta2)"
   ]
  },
  {
   "cell_type": "code",
   "execution_count": 19,
   "id": "68becf36",
   "metadata": {},
   "outputs": [],
   "source": [
    "grad_loss_node = grad(loss_function, 0)\n"
   ]
  },
  {
   "cell_type": "code",
   "execution_count": 20,
   "id": "81b26c26",
   "metadata": {
    "scrolled": true
   },
   "outputs": [
    {
     "data": {
      "text/plain": [
       "DeviceArray([[ 0.86659646,  0.56431055,  0.58287954,  1.9171195 ,\n",
       "              -1.5728126 , -1.3332481 ,  0.869006  ,  0.0472103 ,\n",
       "              -1.0875912 ,  0.49178597,  1.4297829 ,  0.37399054,\n",
       "               0.13316715, -0.7445415 ,  1.038306  , -1.0014179 ,\n",
       "               0.6938259 ,  1.3136001 , -0.14549223, -0.8808924 ,\n",
       "               0.2613884 ],\n",
       "             [ 0.        ,  0.        ,  0.        ,  0.        ,\n",
       "               0.        ,  0.        ,  0.        ,  0.        ,\n",
       "               0.        ,  0.        ,  0.        ,  0.        ,\n",
       "               0.        ,  0.        ,  0.        ,  0.        ,\n",
       "               0.        ,  0.        ,  0.        ,  0.        ,\n",
       "               0.        ],\n",
       "             [ 0.36414924, -1.8371958 , -0.60694915, -1.8038634 ,\n",
       "              -1.3916855 , -0.9426239 , -1.4154408 ,  0.82592237,\n",
       "              -0.5726112 ,  0.60350806, -1.4007857 ,  0.9245302 ,\n",
       "              -1.2688873 ,  1.7100022 ,  0.00406364,  1.1357585 ,\n",
       "               1.3985896 ,  1.4498401 , -1.7161907 , -1.3942472 ,\n",
       "              -0.9517986 ],\n",
       "             [ 0.        ,  0.        ,  0.        ,  0.        ,\n",
       "               0.        ,  0.        ,  0.        ,  0.        ,\n",
       "               0.        ,  0.        ,  0.        ,  0.        ,\n",
       "               0.        ,  0.        ,  0.        ,  0.        ,\n",
       "               0.        ,  0.        ,  0.        ,  0.        ,\n",
       "               0.        ],\n",
       "             [ 0.        ,  0.        ,  0.        ,  0.        ,\n",
       "               0.        ,  0.        ,  0.        ,  0.        ,\n",
       "               0.        ,  0.        ,  0.        ,  0.        ,\n",
       "               0.        ,  0.        ,  0.        ,  0.        ,\n",
       "               0.        ,  0.        ,  0.        ,  0.        ,\n",
       "               0.        ],\n",
       "             [ 0.        ,  0.        ,  0.        ,  0.        ,\n",
       "               0.        ,  0.        ,  0.        ,  0.        ,\n",
       "               0.        ,  0.        ,  0.        ,  0.        ,\n",
       "               0.        ,  0.        ,  0.        ,  0.        ,\n",
       "               0.        ,  0.        ,  0.        ,  0.        ,\n",
       "               0.        ],\n",
       "             [ 0.        ,  0.        ,  0.        ,  0.        ,\n",
       "               0.        ,  0.        ,  0.        ,  0.        ,\n",
       "               0.        ,  0.        ,  0.        ,  0.        ,\n",
       "               0.        ,  0.        ,  0.        ,  0.        ,\n",
       "               0.        ,  0.        ,  0.        ,  0.        ,\n",
       "               0.        ]], dtype=float32)"
      ]
     },
     "execution_count": 20,
     "metadata": {},
     "output_type": "execute_result"
    }
   ],
   "source": [
    "grad_loss_node(node_parameters,\n",
    "                action_parameters,\n",
    "                next_history,\n",
    "                pred_observation,\n",
    "                0,\n",
    "                first_observation,\n",
    "                actions,\n",
    "                delta1,\n",
    "                delta2)\n"
   ]
  },
  {
   "cell_type": "code",
   "execution_count": null,
   "id": "c674bad7",
   "metadata": {},
   "outputs": [],
   "source": []
  },
  {
   "cell_type": "code",
   "execution_count": null,
   "id": "f320dbda",
   "metadata": {},
   "outputs": [],
   "source": []
  },
  {
   "cell_type": "code",
   "execution_count": null,
   "id": "e830ba15",
   "metadata": {},
   "outputs": [],
   "source": []
  },
  {
   "cell_type": "code",
   "execution_count": null,
   "id": "cfa2c64b",
   "metadata": {},
   "outputs": [],
   "source": []
  },
  {
   "cell_type": "code",
   "execution_count": 21,
   "id": "47492cc3",
   "metadata": {},
   "outputs": [],
   "source": [
    "\n",
    "def process_batch(batch_observation,\n",
    "                  batch_actions,\n",
    "                  length_history, \n",
    "                  length_observation,\n",
    "                  node_parameters,\n",
    "                  action_parameters,\n",
    "                  next_history,\n",
    "                  pred_observation):\n",
    "    \n",
    "    node_params_grads = np.zeros((2**max_depth -1, length_history + length_observation + 1))\n",
    "    action_params_grads = np.zeros((2**max_depth -1, 2))\n",
    "    next_history_grads = np.zeros((2**max_depth-1, length_history))\n",
    "    pred_observation_grads = np.zeros((2**max_depth -1, length_observation))\n",
    "    cumulative_loss = 0\n",
    "\n",
    "    current_index = 0\n",
    "    \n",
    "    for i in range(len(batch_observation)):\n",
    "        cumulative_loss += \\\n",
    "            loss_function(node_parameters, \\\n",
    "                action_parameters, \\\n",
    "                next_history, \\\n",
    "                pred_observation, \\\n",
    "                current_index, \\\n",
    "                batch_observation[i], \\\n",
    "                batch_actions[i], \\\n",
    "                delta1, \\\n",
    "                delta2)\n",
    "\n",
    "\n",
    "        \n",
    "        node_params_grads += \\\n",
    "            grad(loss_function, 0)(node_parameters,\n",
    "                                   action_parameters,\n",
    "                                   next_history,\n",
    "                                   pred_observation,\n",
    "                                   current_index,\n",
    "                                   batch_observation[i],\n",
    "                                   batch_actions[i],\n",
    "                                   delta1,\n",
    "                                   delta2)\n",
    "        \n",
    "        action_params_grads += \\\n",
    "            grad(loss_function, 1)(node_parameters,\n",
    "                                   action_parameters,\n",
    "                                   next_history,\n",
    "                                   pred_observation,\n",
    "                                   current_index,\n",
    "                                   batch_observation[i],\n",
    "                                   batch_actions[i],\n",
    "                                   delta1,\n",
    "                                   delta2)\n",
    "        next_history_grads += \\\n",
    "            grad(loss_function, 2)(node_parameters,\n",
    "                                   action_parameters,\n",
    "                                   next_history,\n",
    "                                   pred_observation,\n",
    "                                   current_index,\n",
    "                                   batch_observation[i],\n",
    "                                   batch_actions[i],\n",
    "                                   delta1,\n",
    "                                   delta2)\n",
    "        pred_observation_grads += \\\n",
    "            grad(loss_function, 3)(node_parameters,\n",
    "                                   action_parameters,\n",
    "                                   next_history,\n",
    "                                   pred_observation,\n",
    "                                   current_index,\n",
    "                                   batch_observation[i],\n",
    "                                   batch_actions[i],\n",
    "                                   delta1,\n",
    "                                   delta2)\n",
    "\n",
    "        current_index, product_path, l1_norm_sum = \\\n",
    "            root.predict(batch_observation[i],\n",
    "                    next_history,\n",
    "                    current_index,\n",
    "                    node_parameters)\n",
    "            \n",
    "    return (node_params_grads, \n",
    "            action_params_grads,\n",
    "            next_history_grads,\n",
    "            pred_observation_grads,\n",
    "            cumulative_loss)\n",
    "            "
   ]
  },
  {
   "cell_type": "code",
   "execution_count": 22,
   "id": "1df9d8fe",
   "metadata": {},
   "outputs": [],
   "source": [
    "seq_len = 100\n",
    "delta1 = 0.001\n",
    "delta2 = 0.01\n",
    "batch_observation = np.random.sample((seq_len, length_observation))\n",
    "\n",
    "true_actions = np.random.randint(0, 2, seq_len)\n",
    "batch_actions = np.zeros((seq_len, true_actions.max()+1))\n",
    "batch_actions[np.arange(seq_len),true_actions] = 1\n"
   ]
  },
  {
   "cell_type": "code",
   "execution_count": 23,
   "id": "95c1e72a",
   "metadata": {},
   "outputs": [],
   "source": [
    "gradients = process_batch(batch_observation, \n",
    "              batch_actions, \n",
    "              length_history, \n",
    "              length_observation,\n",
    "              node_parameters,\n",
    "              action_parameters,\n",
    "              next_history,\n",
    "              pred_observation)"
   ]
  },
  {
   "cell_type": "code",
   "execution_count": 24,
   "id": "c3cae091",
   "metadata": {
    "scrolled": true
   },
   "outputs": [
    {
     "data": {
      "text/plain": [
       "DeviceArray([[ 1.4554350e-01,  9.0336874e-02,  2.8860383e-02,\n",
       "              -5.4120108e-02, -4.0215999e-03, -2.9870879e-02,\n",
       "               2.6980756e-02,  1.5608296e-01, -1.0700166e-02,\n",
       "              -8.5120961e-02],\n",
       "             [ 0.0000000e+00,  0.0000000e+00,  0.0000000e+00,\n",
       "               0.0000000e+00,  0.0000000e+00,  0.0000000e+00,\n",
       "               0.0000000e+00,  0.0000000e+00,  0.0000000e+00,\n",
       "               0.0000000e+00],\n",
       "             [ 0.0000000e+00,  0.0000000e+00,  0.0000000e+00,\n",
       "               0.0000000e+00,  0.0000000e+00,  0.0000000e+00,\n",
       "               0.0000000e+00,  0.0000000e+00,  0.0000000e+00,\n",
       "               0.0000000e+00],\n",
       "             [-1.1615208e+00, -5.9248686e-01,  7.5844604e-01,\n",
       "              -6.6037351e-01, -2.8949120e+00,  8.7489724e-01,\n",
       "              -1.7313139e+00, -3.0012071e+00,  1.6553259e+00,\n",
       "               2.0595407e+00],\n",
       "             [ 0.0000000e+00,  0.0000000e+00,  0.0000000e+00,\n",
       "               0.0000000e+00,  0.0000000e+00,  0.0000000e+00,\n",
       "               0.0000000e+00,  0.0000000e+00,  0.0000000e+00,\n",
       "               0.0000000e+00],\n",
       "             [ 0.0000000e+00,  0.0000000e+00,  0.0000000e+00,\n",
       "               0.0000000e+00,  0.0000000e+00,  0.0000000e+00,\n",
       "               0.0000000e+00,  0.0000000e+00,  0.0000000e+00,\n",
       "               0.0000000e+00],\n",
       "             [ 2.3883395e+00,  1.9181827e+00,  8.0707234e-01,\n",
       "              -1.4516307e+00, -8.9874488e-01, -5.8029658e-01,\n",
       "               4.8566437e-01,  5.3217516e+00, -1.9066870e-01,\n",
       "              -4.3436213e+00]], dtype=float32)"
      ]
     },
     "execution_count": 24,
     "metadata": {},
     "output_type": "execute_result"
    }
   ],
   "source": [
    "# node_parameters,\n",
    "# action_parameters,\n",
    "# next_history,\n",
    "# pred_observation,\n",
    "gradients[2]"
   ]
  },
  {
   "cell_type": "code",
   "execution_count": 25,
   "id": "f4562671",
   "metadata": {},
   "outputs": [],
   "source": [
    "def generate_sequence(min_length, max_length, length_observation):\n",
    "    length = np.random.randint(min_length, max_length)\n",
    "    sequence_observations = np.zeros((max_length, length_observation))\n",
    "    observations = 100 * np.random.sample((length, length_observation))\n",
    "#     base[0:max_length - 1] = sequence_observations\n",
    "    for i in range(length):\n",
    "        sequence_observations[i] = observations[i]\n",
    "    \n",
    "    sequence_actions = np.zeros((max_length, 2))\n",
    "\n",
    "    true_actions = np.random.randint(0, 2, length)\n",
    "    actions = np.zeros((length, true_actions.max()+1))\n",
    "    actions[np.arange(length),true_actions] = 1\n",
    "    \n",
    "    for i in range(length):\n",
    "        sequence_actions[i] = actions[i]\n",
    "    \n",
    "    \n",
    "    return length, sequence_observations, sequence_actions"
   ]
  },
  {
   "cell_type": "code",
   "execution_count": 29,
   "id": "4f1b03bb",
   "metadata": {},
   "outputs": [],
   "source": [
    "# generate_sequence(min_length=5, max_length=10, length_observation=10)"
   ]
  },
  {
   "cell_type": "code",
   "execution_count": 60,
   "id": "4fcbb7c9",
   "metadata": {},
   "outputs": [],
   "source": [
    "import matplotlib.pyplot as plt"
   ]
  },
  {
   "cell_type": "code",
   "execution_count": null,
   "id": "21326ab8",
   "metadata": {},
   "outputs": [],
   "source": []
  },
  {
   "cell_type": "code",
   "execution_count": null,
   "id": "9f171e00",
   "metadata": {},
   "outputs": [],
   "source": []
  },
  {
   "cell_type": "code",
   "execution_count": null,
   "id": "14d0bf29",
   "metadata": {},
   "outputs": [],
   "source": []
  }
 ],
 "metadata": {
  "kernelspec": {
   "display_name": "Python 3",
   "language": "python",
   "name": "python3"
  },
  "language_info": {
   "codemirror_mode": {
    "name": "ipython",
    "version": 3
   },
   "file_extension": ".py",
   "mimetype": "text/x-python",
   "name": "python",
   "nbconvert_exporter": "python",
   "pygments_lexer": "ipython3",
   "version": "3.8.5"
  }
 },
 "nbformat": 4,
 "nbformat_minor": 5
}
