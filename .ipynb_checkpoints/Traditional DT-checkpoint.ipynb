{
 "cells": [
  {
   "cell_type": "code",
   "execution_count": 7,
   "id": "31f82f1a",
   "metadata": {},
   "outputs": [],
   "source": [
    "# Decision tree (дерево решений)"
   ]
  },
  {
   "cell_type": "code",
   "execution_count": 8,
   "id": "9b6e3a43",
   "metadata": {},
   "outputs": [],
   "source": [
    "# Линейная регрессия отлично работает когда мы решаем задачу линейно\n",
    "# разделимых классов, когда точки можно поделить прямой линией.\n",
    "# между переменными должна быть строкая линейная взаимосвязь\n",
    "# гомоскедастичность, нормальное распределение остатков, лин. зав. пер."
   ]
  },
  {
   "cell_type": "code",
   "execution_count": 9,
   "id": "016ca016",
   "metadata": {},
   "outputs": [],
   "source": [
    "from sklearn import tree\n",
    "import pandas as pd\n",
    "import matplotlib.pyplot as plt\n",
    "import seaborn as sns\n",
    "%matplotlib inline"
   ]
  },
  {
   "cell_type": "code",
   "execution_count": 10,
   "id": "56f769b3",
   "metadata": {},
   "outputs": [],
   "source": [
    "from IPython.display import SVG\n",
    "from graphviz import Source\n",
    "from IPython.display import display"
   ]
  },
  {
   "cell_type": "code",
   "execution_count": 11,
   "id": "97e2fef8",
   "metadata": {},
   "outputs": [
    {
     "data": {
      "text/html": [
       "<style>svg{width:70% !important;height:70% !important;}</style>"
      ],
      "text/plain": [
       "<IPython.core.display.HTML object>"
      ]
     },
     "execution_count": 11,
     "metadata": {},
     "output_type": "execute_result"
    }
   ],
   "source": [
    "from IPython.display import HTML\n",
    "style = \"<style>svg{width:70% !important;height:70% !important;}</style>\"\n",
    "HTML(style)"
   ]
  },
  {
   "cell_type": "code",
   "execution_count": 12,
   "id": "c327f939",
   "metadata": {},
   "outputs": [],
   "source": [
    "clf = tree.DecisionTreeClassifier(criterion = 'entropy', max_depth = 3)"
   ]
  },
  {
   "cell_type": "code",
   "execution_count": 13,
   "id": "56597b74",
   "metadata": {},
   "outputs": [],
   "source": [
    "df = pd.read_csv('/home/artem/ПП/my_realease/processed dataset.csv', sep='\\t')"
   ]
  },
  {
   "cell_type": "code",
   "execution_count": 14,
   "id": "e5f35c58",
   "metadata": {},
   "outputs": [],
   "source": [
    "df = df.drop(['Unnamed: 0'], axis=1)"
   ]
  },
  {
   "cell_type": "code",
   "execution_count": 15,
   "id": "4dd01b8b",
   "metadata": {},
   "outputs": [
    {
     "data": {
      "text/html": [
       "<div>\n",
       "<style scoped>\n",
       "    .dataframe tbody tr th:only-of-type {\n",
       "        vertical-align: middle;\n",
       "    }\n",
       "\n",
       "    .dataframe tbody tr th {\n",
       "        vertical-align: top;\n",
       "    }\n",
       "\n",
       "    .dataframe thead th {\n",
       "        text-align: right;\n",
       "    }\n",
       "</style>\n",
       "<table border=\"1\" class=\"dataframe\">\n",
       "  <thead>\n",
       "    <tr style=\"text-align: right;\">\n",
       "      <th></th>\n",
       "      <th>CARD_EXPR_DATE</th>\n",
       "      <th>AMOUNT</th>\n",
       "      <th>AMOUNT_INST</th>\n",
       "      <th>DATE_TIME</th>\n",
       "      <th>PDC_CARD_PRES</th>\n",
       "      <th>PDC_CARD_CAPTURE_CAP</th>\n",
       "      <th>CVV2_PRES</th>\n",
       "      <th>AUTH_RESP_CODE_FM</th>\n",
       "      <th>PIN_PRES</th>\n",
       "      <th>MARKED_DATE</th>\n",
       "    </tr>\n",
       "  </thead>\n",
       "  <tbody>\n",
       "    <tr>\n",
       "      <th>0</th>\n",
       "      <td>2.029863</td>\n",
       "      <td>5.601712e-05</td>\n",
       "      <td>0.002576</td>\n",
       "      <td>0.000000</td>\n",
       "      <td>0</td>\n",
       "      <td>1</td>\n",
       "      <td>0</td>\n",
       "      <td>1</td>\n",
       "      <td>0</td>\n",
       "      <td>0</td>\n",
       "    </tr>\n",
       "    <tr>\n",
       "      <th>1</th>\n",
       "      <td>2.029863</td>\n",
       "      <td>2.300403e-05</td>\n",
       "      <td>0.001058</td>\n",
       "      <td>0.000000</td>\n",
       "      <td>0</td>\n",
       "      <td>1</td>\n",
       "      <td>0</td>\n",
       "      <td>1</td>\n",
       "      <td>0</td>\n",
       "      <td>0</td>\n",
       "    </tr>\n",
       "    <tr>\n",
       "      <th>2</th>\n",
       "      <td>1.826069</td>\n",
       "      <td>7.009150e-07</td>\n",
       "      <td>0.000025</td>\n",
       "      <td>2.889444</td>\n",
       "      <td>0</td>\n",
       "      <td>0</td>\n",
       "      <td>1</td>\n",
       "      <td>1</td>\n",
       "      <td>0</td>\n",
       "      <td>0</td>\n",
       "    </tr>\n",
       "    <tr>\n",
       "      <th>3</th>\n",
       "      <td>1.927966</td>\n",
       "      <td>7.009150e-07</td>\n",
       "      <td>0.000025</td>\n",
       "      <td>0.298889</td>\n",
       "      <td>0</td>\n",
       "      <td>0</td>\n",
       "      <td>1</td>\n",
       "      <td>1</td>\n",
       "      <td>0</td>\n",
       "      <td>0</td>\n",
       "    </tr>\n",
       "    <tr>\n",
       "      <th>4</th>\n",
       "      <td>1.927966</td>\n",
       "      <td>2.656468e-06</td>\n",
       "      <td>0.000026</td>\n",
       "      <td>0.023889</td>\n",
       "      <td>0</td>\n",
       "      <td>0</td>\n",
       "      <td>0</td>\n",
       "      <td>1</td>\n",
       "      <td>0</td>\n",
       "      <td>0</td>\n",
       "    </tr>\n",
       "  </tbody>\n",
       "</table>\n",
       "</div>"
      ],
      "text/plain": [
       "   CARD_EXPR_DATE        AMOUNT  AMOUNT_INST  DATE_TIME  PDC_CARD_PRES  \\\n",
       "0        2.029863  5.601712e-05     0.002576   0.000000              0   \n",
       "1        2.029863  2.300403e-05     0.001058   0.000000              0   \n",
       "2        1.826069  7.009150e-07     0.000025   2.889444              0   \n",
       "3        1.927966  7.009150e-07     0.000025   0.298889              0   \n",
       "4        1.927966  2.656468e-06     0.000026   0.023889              0   \n",
       "\n",
       "   PDC_CARD_CAPTURE_CAP  CVV2_PRES  AUTH_RESP_CODE_FM  PIN_PRES  MARKED_DATE  \n",
       "0                     1          0                  1         0            0  \n",
       "1                     1          0                  1         0            0  \n",
       "2                     0          1                  1         0            0  \n",
       "3                     0          1                  1         0            0  \n",
       "4                     0          0                  1         0            0  "
      ]
     },
     "execution_count": 15,
     "metadata": {},
     "output_type": "execute_result"
    }
   ],
   "source": [
    "df.head()"
   ]
  },
  {
   "cell_type": "code",
   "execution_count": null,
   "id": "0b7b51f7",
   "metadata": {},
   "outputs": [],
   "source": []
  },
  {
   "cell_type": "code",
   "execution_count": 16,
   "id": "9966aa1f",
   "metadata": {},
   "outputs": [],
   "source": [
    "df['AMOUNT'] = df['AMOUNT'] * 1426706600 / 10"
   ]
  },
  {
   "cell_type": "code",
   "execution_count": 17,
   "id": "06ba7b25",
   "metadata": {},
   "outputs": [],
   "source": [
    "df['AMOUNT_INST'] = df['AMOUNT_INST'] *39833837 / 10"
   ]
  },
  {
   "cell_type": "code",
   "execution_count": 18,
   "id": "185b8a1c",
   "metadata": {},
   "outputs": [],
   "source": [
    "df['CARD_EXPR_DATE'] = df['CARD_EXPR_DATE'] * 9912 / 10"
   ]
  },
  {
   "cell_type": "code",
   "execution_count": 19,
   "id": "8826a0ab",
   "metadata": {},
   "outputs": [
    {
     "data": {
      "text/html": [
       "<div>\n",
       "<style scoped>\n",
       "    .dataframe tbody tr th:only-of-type {\n",
       "        vertical-align: middle;\n",
       "    }\n",
       "\n",
       "    .dataframe tbody tr th {\n",
       "        vertical-align: top;\n",
       "    }\n",
       "\n",
       "    .dataframe thead th {\n",
       "        text-align: right;\n",
       "    }\n",
       "</style>\n",
       "<table border=\"1\" class=\"dataframe\">\n",
       "  <thead>\n",
       "    <tr style=\"text-align: right;\">\n",
       "      <th></th>\n",
       "      <th>CARD_EXPR_DATE</th>\n",
       "      <th>AMOUNT</th>\n",
       "      <th>AMOUNT_INST</th>\n",
       "      <th>DATE_TIME</th>\n",
       "      <th>PDC_CARD_PRES</th>\n",
       "      <th>PDC_CARD_CAPTURE_CAP</th>\n",
       "      <th>CVV2_PRES</th>\n",
       "      <th>AUTH_RESP_CODE_FM</th>\n",
       "      <th>PIN_PRES</th>\n",
       "      <th>MARKED_DATE</th>\n",
       "    </tr>\n",
       "  </thead>\n",
       "  <tbody>\n",
       "    <tr>\n",
       "      <th>0</th>\n",
       "      <td>2012.0</td>\n",
       "      <td>7992.0</td>\n",
       "      <td>10262.0</td>\n",
       "      <td>0.000000</td>\n",
       "      <td>0</td>\n",
       "      <td>1</td>\n",
       "      <td>0</td>\n",
       "      <td>1</td>\n",
       "      <td>0</td>\n",
       "      <td>0</td>\n",
       "    </tr>\n",
       "    <tr>\n",
       "      <th>1</th>\n",
       "      <td>2012.0</td>\n",
       "      <td>3282.0</td>\n",
       "      <td>4214.0</td>\n",
       "      <td>0.000000</td>\n",
       "      <td>0</td>\n",
       "      <td>1</td>\n",
       "      <td>0</td>\n",
       "      <td>1</td>\n",
       "      <td>0</td>\n",
       "      <td>0</td>\n",
       "    </tr>\n",
       "    <tr>\n",
       "      <th>2</th>\n",
       "      <td>1810.0</td>\n",
       "      <td>100.0</td>\n",
       "      <td>100.0</td>\n",
       "      <td>2.889444</td>\n",
       "      <td>0</td>\n",
       "      <td>0</td>\n",
       "      <td>1</td>\n",
       "      <td>1</td>\n",
       "      <td>0</td>\n",
       "      <td>0</td>\n",
       "    </tr>\n",
       "    <tr>\n",
       "      <th>3</th>\n",
       "      <td>1911.0</td>\n",
       "      <td>100.0</td>\n",
       "      <td>100.0</td>\n",
       "      <td>0.298889</td>\n",
       "      <td>0</td>\n",
       "      <td>0</td>\n",
       "      <td>1</td>\n",
       "      <td>1</td>\n",
       "      <td>0</td>\n",
       "      <td>0</td>\n",
       "    </tr>\n",
       "    <tr>\n",
       "      <th>4</th>\n",
       "      <td>1911.0</td>\n",
       "      <td>379.0</td>\n",
       "      <td>104.0</td>\n",
       "      <td>0.023889</td>\n",
       "      <td>0</td>\n",
       "      <td>0</td>\n",
       "      <td>0</td>\n",
       "      <td>1</td>\n",
       "      <td>0</td>\n",
       "      <td>0</td>\n",
       "    </tr>\n",
       "  </tbody>\n",
       "</table>\n",
       "</div>"
      ],
      "text/plain": [
       "   CARD_EXPR_DATE  AMOUNT  AMOUNT_INST  DATE_TIME  PDC_CARD_PRES  \\\n",
       "0          2012.0  7992.0      10262.0   0.000000              0   \n",
       "1          2012.0  3282.0       4214.0   0.000000              0   \n",
       "2          1810.0   100.0        100.0   2.889444              0   \n",
       "3          1911.0   100.0        100.0   0.298889              0   \n",
       "4          1911.0   379.0        104.0   0.023889              0   \n",
       "\n",
       "   PDC_CARD_CAPTURE_CAP  CVV2_PRES  AUTH_RESP_CODE_FM  PIN_PRES  MARKED_DATE  \n",
       "0                     1          0                  1         0            0  \n",
       "1                     1          0                  1         0            0  \n",
       "2                     0          1                  1         0            0  \n",
       "3                     0          1                  1         0            0  \n",
       "4                     0          0                  1         0            0  "
      ]
     },
     "execution_count": 19,
     "metadata": {},
     "output_type": "execute_result"
    }
   ],
   "source": [
    "df.head()"
   ]
  },
  {
   "cell_type": "code",
   "execution_count": null,
   "id": "6a789bbe",
   "metadata": {},
   "outputs": [],
   "source": [
    "(df.MARKED_DATE == 1).sum()"
   ]
  },
  {
   "cell_type": "code",
   "execution_count": 20,
   "id": "eee8f388",
   "metadata": {},
   "outputs": [],
   "source": [
    "X = df.drop(['MARKED_DATE'], axis=1)"
   ]
  },
  {
   "cell_type": "code",
   "execution_count": null,
   "id": "e8cdf1c1",
   "metadata": {},
   "outputs": [],
   "source": []
  },
  {
   "cell_type": "code",
   "execution_count": 21,
   "id": "0e85110e",
   "metadata": {},
   "outputs": [],
   "source": [
    "y = df.MARKED_DATE"
   ]
  },
  {
   "cell_type": "code",
   "execution_count": 22,
   "id": "bd4b8850",
   "metadata": {},
   "outputs": [],
   "source": [
    "from sklearn.model_selection import train_test_split"
   ]
  },
  {
   "cell_type": "code",
   "execution_count": 23,
   "id": "85bf4ab3",
   "metadata": {},
   "outputs": [],
   "source": [
    "X_train, X_test, y_train, y_test = train_test_split(X,y,test_size=0.33,\n",
    "                                                   random_state=42)"
   ]
  },
  {
   "cell_type": "code",
   "execution_count": 24,
   "id": "58bf9a20",
   "metadata": {},
   "outputs": [
    {
     "data": {
      "text/html": [
       "<style>#sk-container-id-1 {color: black;background-color: white;}#sk-container-id-1 pre{padding: 0;}#sk-container-id-1 div.sk-toggleable {background-color: white;}#sk-container-id-1 label.sk-toggleable__label {cursor: pointer;display: block;width: 100%;margin-bottom: 0;padding: 0.3em;box-sizing: border-box;text-align: center;}#sk-container-id-1 label.sk-toggleable__label-arrow:before {content: \"▸\";float: left;margin-right: 0.25em;color: #696969;}#sk-container-id-1 label.sk-toggleable__label-arrow:hover:before {color: black;}#sk-container-id-1 div.sk-estimator:hover label.sk-toggleable__label-arrow:before {color: black;}#sk-container-id-1 div.sk-toggleable__content {max-height: 0;max-width: 0;overflow: hidden;text-align: left;background-color: #f0f8ff;}#sk-container-id-1 div.sk-toggleable__content pre {margin: 0.2em;color: black;border-radius: 0.25em;background-color: #f0f8ff;}#sk-container-id-1 input.sk-toggleable__control:checked~div.sk-toggleable__content {max-height: 200px;max-width: 100%;overflow: auto;}#sk-container-id-1 input.sk-toggleable__control:checked~label.sk-toggleable__label-arrow:before {content: \"▾\";}#sk-container-id-1 div.sk-estimator input.sk-toggleable__control:checked~label.sk-toggleable__label {background-color: #d4ebff;}#sk-container-id-1 div.sk-label input.sk-toggleable__control:checked~label.sk-toggleable__label {background-color: #d4ebff;}#sk-container-id-1 input.sk-hidden--visually {border: 0;clip: rect(1px 1px 1px 1px);clip: rect(1px, 1px, 1px, 1px);height: 1px;margin: -1px;overflow: hidden;padding: 0;position: absolute;width: 1px;}#sk-container-id-1 div.sk-estimator {font-family: monospace;background-color: #f0f8ff;border: 1px dotted black;border-radius: 0.25em;box-sizing: border-box;margin-bottom: 0.5em;}#sk-container-id-1 div.sk-estimator:hover {background-color: #d4ebff;}#sk-container-id-1 div.sk-parallel-item::after {content: \"\";width: 100%;border-bottom: 1px solid gray;flex-grow: 1;}#sk-container-id-1 div.sk-label:hover label.sk-toggleable__label {background-color: #d4ebff;}#sk-container-id-1 div.sk-serial::before {content: \"\";position: absolute;border-left: 1px solid gray;box-sizing: border-box;top: 0;bottom: 0;left: 50%;z-index: 0;}#sk-container-id-1 div.sk-serial {display: flex;flex-direction: column;align-items: center;background-color: white;padding-right: 0.2em;padding-left: 0.2em;position: relative;}#sk-container-id-1 div.sk-item {position: relative;z-index: 1;}#sk-container-id-1 div.sk-parallel {display: flex;align-items: stretch;justify-content: center;background-color: white;position: relative;}#sk-container-id-1 div.sk-item::before, #sk-container-id-1 div.sk-parallel-item::before {content: \"\";position: absolute;border-left: 1px solid gray;box-sizing: border-box;top: 0;bottom: 0;left: 50%;z-index: -1;}#sk-container-id-1 div.sk-parallel-item {display: flex;flex-direction: column;z-index: 1;position: relative;background-color: white;}#sk-container-id-1 div.sk-parallel-item:first-child::after {align-self: flex-end;width: 50%;}#sk-container-id-1 div.sk-parallel-item:last-child::after {align-self: flex-start;width: 50%;}#sk-container-id-1 div.sk-parallel-item:only-child::after {width: 0;}#sk-container-id-1 div.sk-dashed-wrapped {border: 1px dashed gray;margin: 0 0.4em 0.5em 0.4em;box-sizing: border-box;padding-bottom: 0.4em;background-color: white;}#sk-container-id-1 div.sk-label label {font-family: monospace;font-weight: bold;display: inline-block;line-height: 1.2em;}#sk-container-id-1 div.sk-label-container {text-align: center;}#sk-container-id-1 div.sk-container {/* jupyter's `normalize.less` sets `[hidden] { display: none; }` but bootstrap.min.css set `[hidden] { display: none !important; }` so we also need the `!important` here to be able to override the default hidden behavior on the sphinx rendered scikit-learn.org. See: https://github.com/scikit-learn/scikit-learn/issues/21755 */display: inline-block !important;position: relative;}#sk-container-id-1 div.sk-text-repr-fallback {display: none;}</style><div id=\"sk-container-id-1\" class=\"sk-top-container\"><div class=\"sk-text-repr-fallback\"><pre>DecisionTreeClassifier(criterion=&#x27;entropy&#x27;, max_depth=3)</pre><b>In a Jupyter environment, please rerun this cell to show the HTML representation or trust the notebook. <br />On GitHub, the HTML representation is unable to render, please try loading this page with nbviewer.org.</b></div><div class=\"sk-container\" hidden><div class=\"sk-item\"><div class=\"sk-estimator sk-toggleable\"><input class=\"sk-toggleable__control sk-hidden--visually\" id=\"sk-estimator-id-1\" type=\"checkbox\" checked><label for=\"sk-estimator-id-1\" class=\"sk-toggleable__label sk-toggleable__label-arrow\">DecisionTreeClassifier</label><div class=\"sk-toggleable__content\"><pre>DecisionTreeClassifier(criterion=&#x27;entropy&#x27;, max_depth=3)</pre></div></div></div></div></div>"
      ],
      "text/plain": [
       "DecisionTreeClassifier(criterion='entropy', max_depth=3)"
      ]
     },
     "execution_count": 24,
     "metadata": {},
     "output_type": "execute_result"
    }
   ],
   "source": [
    "clf.fit(X_train,y_train)"
   ]
  },
  {
   "cell_type": "code",
   "execution_count": 25,
   "id": "8b4d9b63",
   "metadata": {
    "scrolled": false
   },
   "outputs": [
    {
     "data": {
      "image/svg+xml": [
       "<svg xmlns=\"http://www.w3.org/2000/svg\" xmlns:xlink=\"http://www.w3.org/1999/xlink\" width=\"1301pt\" height=\"433pt\" viewBox=\"0.00 0.00 1301.00 433.00\">\n",
       "<g id=\"graph0\" class=\"graph\" transform=\"scale(1 1) rotate(0) translate(4 429)\">\n",
       "<title>Tree</title>\n",
       "<polygon fill=\"white\" stroke=\"transparent\" points=\"-4,4 -4,-429 1297,-429 1297,4 -4,4\"/>\n",
       "<!-- 0 -->\n",
       "<g id=\"node1\" class=\"node\">\n",
       "<title>0</title>\n",
       "<polygon fill=\"#e68640\" stroke=\"black\" points=\"724.5,-425 533.5,-425 533.5,-342 724.5,-342 724.5,-425\"/>\n",
       "<text text-anchor=\"middle\" x=\"629\" y=\"-409.8\" font-family=\"Helvetica,sans-Serif\" font-size=\"14.00\">AMOUNT_INST &lt;= 433.5</text>\n",
       "<text text-anchor=\"middle\" x=\"629\" y=\"-394.8\" font-family=\"Helvetica,sans-Serif\" font-size=\"14.00\">entropy = 0.222</text>\n",
       "<text text-anchor=\"middle\" x=\"629\" y=\"-379.8\" font-family=\"Helvetica,sans-Serif\" font-size=\"14.00\">samples = 43549</text>\n",
       "<text text-anchor=\"middle\" x=\"629\" y=\"-364.8\" font-family=\"Helvetica,sans-Serif\" font-size=\"14.00\">value = [41998, 1551]</text>\n",
       "<text text-anchor=\"middle\" x=\"629\" y=\"-349.8\" font-family=\"Helvetica,sans-Serif\" font-size=\"14.00\">class = Negative</text>\n",
       "</g>\n",
       "<!-- 1 -->\n",
       "<g id=\"node2\" class=\"node\">\n",
       "<title>1</title>\n",
       "<polygon fill=\"#e78d4c\" stroke=\"black\" points=\"559,-306 401,-306 401,-223 559,-223 559,-306\"/>\n",
       "<text text-anchor=\"middle\" x=\"480\" y=\"-290.8\" font-family=\"Helvetica,sans-Serif\" font-size=\"14.00\">AMOUNT &lt;= 368.5</text>\n",
       "<text text-anchor=\"middle\" x=\"480\" y=\"-275.8\" font-family=\"Helvetica,sans-Serif\" font-size=\"14.00\">entropy = 0.427</text>\n",
       "<text text-anchor=\"middle\" x=\"480\" y=\"-260.8\" font-family=\"Helvetica,sans-Serif\" font-size=\"14.00\">samples = 6676</text>\n",
       "<text text-anchor=\"middle\" x=\"480\" y=\"-245.8\" font-family=\"Helvetica,sans-Serif\" font-size=\"14.00\">value = [6093, 583]</text>\n",
       "<text text-anchor=\"middle\" x=\"480\" y=\"-230.8\" font-family=\"Helvetica,sans-Serif\" font-size=\"14.00\">class = Negative</text>\n",
       "</g>\n",
       "<!-- 0&#45;&gt;1 -->\n",
       "<g id=\"edge1\" class=\"edge\">\n",
       "<title>0-&gt;1</title>\n",
       "<path fill=\"none\" stroke=\"black\" d=\"M577.31,-341.91C565.17,-332.38 552.14,-322.15 539.69,-312.37\"/>\n",
       "<polygon fill=\"black\" stroke=\"black\" points=\"541.63,-309.44 531.6,-306.02 537.31,-314.95 541.63,-309.44\"/>\n",
       "<text text-anchor=\"middle\" x=\"534.59\" y=\"-327.14\" font-family=\"Helvetica,sans-Serif\" font-size=\"14.00\">True</text>\n",
       "</g>\n",
       "<!-- 8 -->\n",
       "<g id=\"node9\" class=\"node\">\n",
       "<title>8</title>\n",
       "<polygon fill=\"#e6843e\" stroke=\"black\" points=\"887.5,-306 720.5,-306 720.5,-223 887.5,-223 887.5,-306\"/>\n",
       "<text text-anchor=\"middle\" x=\"804\" y=\"-290.8\" font-family=\"Helvetica,sans-Serif\" font-size=\"14.00\">DATE_TIME &lt;= 0.534</text>\n",
       "<text text-anchor=\"middle\" x=\"804\" y=\"-275.8\" font-family=\"Helvetica,sans-Serif\" font-size=\"14.00\">entropy = 0.175</text>\n",
       "<text text-anchor=\"middle\" x=\"804\" y=\"-260.8\" font-family=\"Helvetica,sans-Serif\" font-size=\"14.00\">samples = 36873</text>\n",
       "<text text-anchor=\"middle\" x=\"804\" y=\"-245.8\" font-family=\"Helvetica,sans-Serif\" font-size=\"14.00\">value = [35905, 968]</text>\n",
       "<text text-anchor=\"middle\" x=\"804\" y=\"-230.8\" font-family=\"Helvetica,sans-Serif\" font-size=\"14.00\">class = Negative</text>\n",
       "</g>\n",
       "<!-- 0&#45;&gt;8 -->\n",
       "<g id=\"edge8\" class=\"edge\">\n",
       "<title>0-&gt;8</title>\n",
       "<path fill=\"none\" stroke=\"black\" d=\"M689.72,-341.91C704.24,-332.2 719.85,-321.76 734.73,-311.81\"/>\n",
       "<polygon fill=\"black\" stroke=\"black\" points=\"737.02,-314.49 743.39,-306.02 733.13,-308.67 737.02,-314.49\"/>\n",
       "<text text-anchor=\"middle\" x=\"738.52\" y=\"-326.84\" font-family=\"Helvetica,sans-Serif\" font-size=\"14.00\">False</text>\n",
       "</g>\n",
       "<!-- 2 -->\n",
       "<g id=\"node3\" class=\"node\">\n",
       "<title>2</title>\n",
       "<polygon fill=\"#e78b49\" stroke=\"black\" points=\"326.5,-187 159.5,-187 159.5,-104 326.5,-104 326.5,-187\"/>\n",
       "<text text-anchor=\"middle\" x=\"243\" y=\"-171.8\" font-family=\"Helvetica,sans-Serif\" font-size=\"14.00\">DATE_TIME &lt;= 0.159</text>\n",
       "<text text-anchor=\"middle\" x=\"243\" y=\"-156.8\" font-family=\"Helvetica,sans-Serif\" font-size=\"14.00\">entropy = 0.381</text>\n",
       "<text text-anchor=\"middle\" x=\"243\" y=\"-141.8\" font-family=\"Helvetica,sans-Serif\" font-size=\"14.00\">samples = 6076</text>\n",
       "<text text-anchor=\"middle\" x=\"243\" y=\"-126.8\" font-family=\"Helvetica,sans-Serif\" font-size=\"14.00\">value = [5626, 450]</text>\n",
       "<text text-anchor=\"middle\" x=\"243\" y=\"-111.8\" font-family=\"Helvetica,sans-Serif\" font-size=\"14.00\">class = Negative</text>\n",
       "</g>\n",
       "<!-- 1&#45;&gt;2 -->\n",
       "<g id=\"edge2\" class=\"edge\">\n",
       "<title>1-&gt;2</title>\n",
       "<path fill=\"none\" stroke=\"black\" d=\"M400.75,-224.38C379.56,-213.92 356.48,-202.52 334.67,-191.76\"/>\n",
       "<polygon fill=\"black\" stroke=\"black\" points=\"335.93,-188.47 325.42,-187.19 332.83,-194.75 335.93,-188.47\"/>\n",
       "</g>\n",
       "<!-- 5 -->\n",
       "<g id=\"node6\" class=\"node\">\n",
       "<title>5</title>\n",
       "<polygon fill=\"#eca571\" stroke=\"black\" points=\"556,-187 404,-187 404,-104 556,-104 556,-187\"/>\n",
       "<text text-anchor=\"middle\" x=\"480\" y=\"-171.8\" font-family=\"Helvetica,sans-Serif\" font-size=\"14.00\">AMOUNT &lt;= 369.5</text>\n",
       "<text text-anchor=\"middle\" x=\"480\" y=\"-156.8\" font-family=\"Helvetica,sans-Serif\" font-size=\"14.00\">entropy = 0.763</text>\n",
       "<text text-anchor=\"middle\" x=\"480\" y=\"-141.8\" font-family=\"Helvetica,sans-Serif\" font-size=\"14.00\">samples = 600</text>\n",
       "<text text-anchor=\"middle\" x=\"480\" y=\"-126.8\" font-family=\"Helvetica,sans-Serif\" font-size=\"14.00\">value = [467, 133]</text>\n",
       "<text text-anchor=\"middle\" x=\"480\" y=\"-111.8\" font-family=\"Helvetica,sans-Serif\" font-size=\"14.00\">class = Negative</text>\n",
       "</g>\n",
       "<!-- 1&#45;&gt;5 -->\n",
       "<g id=\"edge5\" class=\"edge\">\n",
       "<title>1-&gt;5</title>\n",
       "<path fill=\"none\" stroke=\"black\" d=\"M480,-222.91C480,-214.65 480,-205.86 480,-197.3\"/>\n",
       "<polygon fill=\"black\" stroke=\"black\" points=\"483.5,-197.02 480,-187.02 476.5,-197.02 483.5,-197.02\"/>\n",
       "</g>\n",
       "<!-- 3 -->\n",
       "<g id=\"node4\" class=\"node\">\n",
       "<title>3</title>\n",
       "<polygon fill=\"#e78b48\" stroke=\"black\" points=\"158,-68 0,-68 0,0 158,0 158,-68\"/>\n",
       "<text text-anchor=\"middle\" x=\"79\" y=\"-52.8\" font-family=\"Helvetica,sans-Serif\" font-size=\"14.00\">entropy = 0.368</text>\n",
       "<text text-anchor=\"middle\" x=\"79\" y=\"-37.8\" font-family=\"Helvetica,sans-Serif\" font-size=\"14.00\">samples = 5976</text>\n",
       "<text text-anchor=\"middle\" x=\"79\" y=\"-22.8\" font-family=\"Helvetica,sans-Serif\" font-size=\"14.00\">value = [5555, 421]</text>\n",
       "<text text-anchor=\"middle\" x=\"79\" y=\"-7.8\" font-family=\"Helvetica,sans-Serif\" font-size=\"14.00\">class = Negative</text>\n",
       "</g>\n",
       "<!-- 2&#45;&gt;3 -->\n",
       "<g id=\"edge3\" class=\"edge\">\n",
       "<title>2-&gt;3</title>\n",
       "<path fill=\"none\" stroke=\"black\" d=\"M181.93,-103.73C167.24,-93.92 151.59,-83.46 137.04,-73.75\"/>\n",
       "<polygon fill=\"black\" stroke=\"black\" points=\"138.87,-70.77 128.61,-68.13 134.99,-76.59 138.87,-70.77\"/>\n",
       "</g>\n",
       "<!-- 4 -->\n",
       "<g id=\"node5\" class=\"node\">\n",
       "<title>4</title>\n",
       "<polygon fill=\"#f0b48a\" stroke=\"black\" points=\"310,-68 176,-68 176,0 310,0 310,-68\"/>\n",
       "<text text-anchor=\"middle\" x=\"243\" y=\"-52.8\" font-family=\"Helvetica,sans-Serif\" font-size=\"14.00\">entropy = 0.869</text>\n",
       "<text text-anchor=\"middle\" x=\"243\" y=\"-37.8\" font-family=\"Helvetica,sans-Serif\" font-size=\"14.00\">samples = 100</text>\n",
       "<text text-anchor=\"middle\" x=\"243\" y=\"-22.8\" font-family=\"Helvetica,sans-Serif\" font-size=\"14.00\">value = [71, 29]</text>\n",
       "<text text-anchor=\"middle\" x=\"243\" y=\"-7.8\" font-family=\"Helvetica,sans-Serif\" font-size=\"14.00\">class = Negative</text>\n",
       "</g>\n",
       "<!-- 2&#45;&gt;4 -->\n",
       "<g id=\"edge4\" class=\"edge\">\n",
       "<title>2-&gt;4</title>\n",
       "<path fill=\"none\" stroke=\"black\" d=\"M243,-103.73C243,-95.52 243,-86.86 243,-78.56\"/>\n",
       "<polygon fill=\"black\" stroke=\"black\" points=\"246.5,-78.3 243,-68.3 239.5,-78.3 246.5,-78.3\"/>\n",
       "</g>\n",
       "<!-- 6 -->\n",
       "<g id=\"node7\" class=\"node\">\n",
       "<title>6</title>\n",
       "<polygon fill=\"#67b4eb\" stroke=\"black\" points=\"459.5,-68 328.5,-68 328.5,0 459.5,0 459.5,-68\"/>\n",
       "<text text-anchor=\"middle\" x=\"394\" y=\"-52.8\" font-family=\"Helvetica,sans-Serif\" font-size=\"14.00\">entropy = 0.696</text>\n",
       "<text text-anchor=\"middle\" x=\"394\" y=\"-37.8\" font-family=\"Helvetica,sans-Serif\" font-size=\"14.00\">samples = 96</text>\n",
       "<text text-anchor=\"middle\" x=\"394\" y=\"-22.8\" font-family=\"Helvetica,sans-Serif\" font-size=\"14.00\">value = [18, 78]</text>\n",
       "<text text-anchor=\"middle\" x=\"394\" y=\"-7.8\" font-family=\"Helvetica,sans-Serif\" font-size=\"14.00\">class = Positive</text>\n",
       "</g>\n",
       "<!-- 5&#45;&gt;6 -->\n",
       "<g id=\"edge6\" class=\"edge\">\n",
       "<title>5-&gt;6</title>\n",
       "<path fill=\"none\" stroke=\"black\" d=\"M447.98,-103.73C440.96,-94.79 433.52,-85.32 426.48,-76.36\"/>\n",
       "<polygon fill=\"black\" stroke=\"black\" points=\"429.08,-74 420.15,-68.3 423.58,-78.33 429.08,-74\"/>\n",
       "</g>\n",
       "<!-- 7 -->\n",
       "<g id=\"node8\" class=\"node\">\n",
       "<title>7</title>\n",
       "<polygon fill=\"#e89051\" stroke=\"black\" points=\"618,-68 478,-68 478,0 618,0 618,-68\"/>\n",
       "<text text-anchor=\"middle\" x=\"548\" y=\"-52.8\" font-family=\"Helvetica,sans-Serif\" font-size=\"14.00\">entropy = 0.497</text>\n",
       "<text text-anchor=\"middle\" x=\"548\" y=\"-37.8\" font-family=\"Helvetica,sans-Serif\" font-size=\"14.00\">samples = 504</text>\n",
       "<text text-anchor=\"middle\" x=\"548\" y=\"-22.8\" font-family=\"Helvetica,sans-Serif\" font-size=\"14.00\">value = [449, 55]</text>\n",
       "<text text-anchor=\"middle\" x=\"548\" y=\"-7.8\" font-family=\"Helvetica,sans-Serif\" font-size=\"14.00\">class = Negative</text>\n",
       "</g>\n",
       "<!-- 5&#45;&gt;7 -->\n",
       "<g id=\"edge7\" class=\"edge\">\n",
       "<title>5-&gt;7</title>\n",
       "<path fill=\"none\" stroke=\"black\" d=\"M505.32,-103.73C510.76,-94.97 516.51,-85.7 521.98,-76.91\"/>\n",
       "<polygon fill=\"black\" stroke=\"black\" points=\"525.02,-78.64 527.32,-68.3 519.07,-74.95 525.02,-78.64\"/>\n",
       "</g>\n",
       "<!-- 9 -->\n",
       "<g id=\"node10\" class=\"node\">\n",
       "<title>9</title>\n",
       "<polygon fill=\"#e6843e\" stroke=\"black\" points=\"887.5,-187 720.5,-187 720.5,-104 887.5,-104 887.5,-187\"/>\n",
       "<text text-anchor=\"middle\" x=\"804\" y=\"-171.8\" font-family=\"Helvetica,sans-Serif\" font-size=\"14.00\">CVV2_PRES &lt;= 0.5</text>\n",
       "<text text-anchor=\"middle\" x=\"804\" y=\"-156.8\" font-family=\"Helvetica,sans-Serif\" font-size=\"14.00\">entropy = 0.167</text>\n",
       "<text text-anchor=\"middle\" x=\"804\" y=\"-141.8\" font-family=\"Helvetica,sans-Serif\" font-size=\"14.00\">samples = 36673</text>\n",
       "<text text-anchor=\"middle\" x=\"804\" y=\"-126.8\" font-family=\"Helvetica,sans-Serif\" font-size=\"14.00\">value = [35765, 908]</text>\n",
       "<text text-anchor=\"middle\" x=\"804\" y=\"-111.8\" font-family=\"Helvetica,sans-Serif\" font-size=\"14.00\">class = Negative</text>\n",
       "</g>\n",
       "<!-- 8&#45;&gt;9 -->\n",
       "<g id=\"edge9\" class=\"edge\">\n",
       "<title>8-&gt;9</title>\n",
       "<path fill=\"none\" stroke=\"black\" d=\"M804,-222.91C804,-214.65 804,-205.86 804,-197.3\"/>\n",
       "<polygon fill=\"black\" stroke=\"black\" points=\"807.5,-197.02 804,-187.02 800.5,-197.02 807.5,-197.02\"/>\n",
       "</g>\n",
       "<!-- 12 -->\n",
       "<g id=\"node13\" class=\"node\">\n",
       "<title>12</title>\n",
       "<polygon fill=\"#f0b78e\" stroke=\"black\" points=\"1157.5,-187 990.5,-187 990.5,-104 1157.5,-104 1157.5,-187\"/>\n",
       "<text text-anchor=\"middle\" x=\"1074\" y=\"-171.8\" font-family=\"Helvetica,sans-Serif\" font-size=\"14.00\">DATE_TIME &lt;= 1.419</text>\n",
       "<text text-anchor=\"middle\" x=\"1074\" y=\"-156.8\" font-family=\"Helvetica,sans-Serif\" font-size=\"14.00\">entropy = 0.881</text>\n",
       "<text text-anchor=\"middle\" x=\"1074\" y=\"-141.8\" font-family=\"Helvetica,sans-Serif\" font-size=\"14.00\">samples = 200</text>\n",
       "<text text-anchor=\"middle\" x=\"1074\" y=\"-126.8\" font-family=\"Helvetica,sans-Serif\" font-size=\"14.00\">value = [140, 60]</text>\n",
       "<text text-anchor=\"middle\" x=\"1074\" y=\"-111.8\" font-family=\"Helvetica,sans-Serif\" font-size=\"14.00\">class = Negative</text>\n",
       "</g>\n",
       "<!-- 8&#45;&gt;12 -->\n",
       "<g id=\"edge12\" class=\"edge\">\n",
       "<title>8-&gt;12</title>\n",
       "<path fill=\"none\" stroke=\"black\" d=\"M887.58,-227.28C917.2,-214.45 950.69,-199.93 981.04,-186.78\"/>\n",
       "<polygon fill=\"black\" stroke=\"black\" points=\"982.57,-189.94 990.35,-182.75 979.78,-183.51 982.57,-189.94\"/>\n",
       "</g>\n",
       "<!-- 10 -->\n",
       "<g id=\"node11\" class=\"node\">\n",
       "<title>10</title>\n",
       "<polygon fill=\"#e5833d\" stroke=\"black\" points=\"803.5,-68 636.5,-68 636.5,0 803.5,0 803.5,-68\"/>\n",
       "<text text-anchor=\"middle\" x=\"720\" y=\"-52.8\" font-family=\"Helvetica,sans-Serif\" font-size=\"14.00\">entropy = 0.132</text>\n",
       "<text text-anchor=\"middle\" x=\"720\" y=\"-37.8\" font-family=\"Helvetica,sans-Serif\" font-size=\"14.00\">samples = 24209</text>\n",
       "<text text-anchor=\"middle\" x=\"720\" y=\"-22.8\" font-family=\"Helvetica,sans-Serif\" font-size=\"14.00\">value = [23763, 446]</text>\n",
       "<text text-anchor=\"middle\" x=\"720\" y=\"-7.8\" font-family=\"Helvetica,sans-Serif\" font-size=\"14.00\">class = Negative</text>\n",
       "</g>\n",
       "<!-- 9&#45;&gt;10 -->\n",
       "<g id=\"edge10\" class=\"edge\">\n",
       "<title>9-&gt;10</title>\n",
       "<path fill=\"none\" stroke=\"black\" d=\"M772.72,-103.73C765.86,-94.79 758.6,-85.32 751.72,-76.36\"/>\n",
       "<polygon fill=\"black\" stroke=\"black\" points=\"754.41,-74.1 745.54,-68.3 748.85,-78.36 754.41,-74.1\"/>\n",
       "</g>\n",
       "<!-- 11 -->\n",
       "<g id=\"node12\" class=\"node\">\n",
       "<title>11</title>\n",
       "<polygon fill=\"#e68641\" stroke=\"black\" points=\"988.5,-68 821.5,-68 821.5,0 988.5,0 988.5,-68\"/>\n",
       "<text text-anchor=\"middle\" x=\"905\" y=\"-52.8\" font-family=\"Helvetica,sans-Serif\" font-size=\"14.00\">entropy = 0.229</text>\n",
       "<text text-anchor=\"middle\" x=\"905\" y=\"-37.8\" font-family=\"Helvetica,sans-Serif\" font-size=\"14.00\">samples = 12464</text>\n",
       "<text text-anchor=\"middle\" x=\"905\" y=\"-22.8\" font-family=\"Helvetica,sans-Serif\" font-size=\"14.00\">value = [12002, 462]</text>\n",
       "<text text-anchor=\"middle\" x=\"905\" y=\"-7.8\" font-family=\"Helvetica,sans-Serif\" font-size=\"14.00\">class = Negative</text>\n",
       "</g>\n",
       "<!-- 9&#45;&gt;11 -->\n",
       "<g id=\"edge11\" class=\"edge\">\n",
       "<title>9-&gt;11</title>\n",
       "<path fill=\"none\" stroke=\"black\" d=\"M841.61,-103.73C850.02,-94.61 858.95,-84.93 867.36,-75.81\"/>\n",
       "<polygon fill=\"black\" stroke=\"black\" points=\"870.08,-78.02 874.29,-68.3 864.93,-73.28 870.08,-78.02\"/>\n",
       "</g>\n",
       "<!-- 13 -->\n",
       "<g id=\"node14\" class=\"node\">\n",
       "<title>13</title>\n",
       "<polygon fill=\"#ea9b61\" stroke=\"black\" points=\"1141,-68 1007,-68 1007,0 1141,0 1141,-68\"/>\n",
       "<text text-anchor=\"middle\" x=\"1074\" y=\"-52.8\" font-family=\"Helvetica,sans-Serif\" font-size=\"14.00\">entropy = 0.657</text>\n",
       "<text text-anchor=\"middle\" x=\"1074\" y=\"-37.8\" font-family=\"Helvetica,sans-Serif\" font-size=\"14.00\">samples = 106</text>\n",
       "<text text-anchor=\"middle\" x=\"1074\" y=\"-22.8\" font-family=\"Helvetica,sans-Serif\" font-size=\"14.00\">value = [88, 18]</text>\n",
       "<text text-anchor=\"middle\" x=\"1074\" y=\"-7.8\" font-family=\"Helvetica,sans-Serif\" font-size=\"14.00\">class = Negative</text>\n",
       "</g>\n",
       "<!-- 12&#45;&gt;13 -->\n",
       "<g id=\"edge13\" class=\"edge\">\n",
       "<title>12-&gt;13</title>\n",
       "<path fill=\"none\" stroke=\"black\" d=\"M1074,-103.73C1074,-95.52 1074,-86.86 1074,-78.56\"/>\n",
       "<polygon fill=\"black\" stroke=\"black\" points=\"1077.5,-78.3 1074,-68.3 1070.5,-78.3 1077.5,-78.3\"/>\n",
       "</g>\n",
       "<!-- 14 -->\n",
       "<g id=\"node15\" class=\"node\">\n",
       "<title>14</title>\n",
       "<polygon fill=\"#fae7d9\" stroke=\"black\" points=\"1293,-68 1159,-68 1159,0 1293,0 1293,-68\"/>\n",
       "<text text-anchor=\"middle\" x=\"1226\" y=\"-52.8\" font-family=\"Helvetica,sans-Serif\" font-size=\"14.00\">entropy = 0.992</text>\n",
       "<text text-anchor=\"middle\" x=\"1226\" y=\"-37.8\" font-family=\"Helvetica,sans-Serif\" font-size=\"14.00\">samples = 94</text>\n",
       "<text text-anchor=\"middle\" x=\"1226\" y=\"-22.8\" font-family=\"Helvetica,sans-Serif\" font-size=\"14.00\">value = [52, 42]</text>\n",
       "<text text-anchor=\"middle\" x=\"1226\" y=\"-7.8\" font-family=\"Helvetica,sans-Serif\" font-size=\"14.00\">class = Negative</text>\n",
       "</g>\n",
       "<!-- 12&#45;&gt;14 -->\n",
       "<g id=\"edge14\" class=\"edge\">\n",
       "<title>12-&gt;14</title>\n",
       "<path fill=\"none\" stroke=\"black\" d=\"M1130.6,-103.73C1144.02,-94.06 1158.31,-83.77 1171.62,-74.17\"/>\n",
       "<polygon fill=\"black\" stroke=\"black\" points=\"1173.71,-76.98 1179.78,-68.3 1169.62,-71.3 1173.71,-76.98\"/>\n",
       "</g>\n",
       "</g>\n",
       "</svg>"
      ],
      "text/plain": [
       "<IPython.core.display.SVG object>"
      ]
     },
     "metadata": {},
     "output_type": "display_data"
    }
   ],
   "source": [
    "graph = Source(tree.export_graphviz(clf, out_file=None,\n",
    "                                   feature_names=list(X),\n",
    "                                   class_names=['Negative','Positive'],\n",
    "                                   filled=True))\n",
    "display(SVG(graph.pipe(format='svg')))"
   ]
  },
  {
   "cell_type": "code",
   "execution_count": 26,
   "id": "9af94dad",
   "metadata": {},
   "outputs": [
    {
     "data": {
      "text/plain": [
       "0.965762704080461"
      ]
     },
     "execution_count": 26,
     "metadata": {},
     "output_type": "execute_result"
    }
   ],
   "source": [
    "clf.score(X_train,y_train)"
   ]
  },
  {
   "cell_type": "code",
   "execution_count": 27,
   "id": "486788f2",
   "metadata": {},
   "outputs": [
    {
     "data": {
      "text/plain": [
       "0.9641491841491842"
      ]
     },
     "execution_count": 27,
     "metadata": {},
     "output_type": "execute_result"
    }
   ],
   "source": [
    "clf.score(X_test,y_test)"
   ]
  },
  {
   "cell_type": "code",
   "execution_count": null,
   "id": "6d43af0c",
   "metadata": {},
   "outputs": [],
   "source": []
  }
 ],
 "metadata": {
  "kernelspec": {
   "display_name": "Python 3",
   "language": "python",
   "name": "python3"
  },
  "language_info": {
   "codemirror_mode": {
    "name": "ipython",
    "version": 3
   },
   "file_extension": ".py",
   "mimetype": "text/x-python",
   "name": "python",
   "nbconvert_exporter": "python",
   "pygments_lexer": "ipython3",
   "version": "3.9.12"
  }
 },
 "nbformat": 4,
 "nbformat_minor": 5
}
