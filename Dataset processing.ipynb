{
 "cells": [
  {
   "cell_type": "code",
   "execution_count": 117,
   "id": "ce9411ad",
   "metadata": {},
   "outputs": [],
   "source": [
    "import pandas as pd\n",
    "import numpy as np"
   ]
  },
  {
   "cell_type": "code",
   "execution_count": 118,
   "id": "de539816",
   "metadata": {},
   "outputs": [
    {
     "name": "stderr",
     "output_type": "stream",
     "text": [
      "/tmp/ipykernel_15816/1169938213.py:1: DtypeWarning: Columns (1,7,8,9,10,13,16,17,18,19,20,21) have mixed types. Specify dtype option on import or set low_memory=False.\n",
      "  df = pd.read_csv('/home/artem/ПП/datasets/ds_real/svista.txt', sep=\"\\t\", header=None)\n"
     ]
    }
   ],
   "source": [
    "df = pd.read_csv('/home/artem/ПП/datasets/ds_real/svista.txt', sep=\"\\t\", header=None)"
   ]
  },
  {
   "cell_type": "code",
   "execution_count": 119,
   "id": "8bd4a295",
   "metadata": {},
   "outputs": [],
   "source": [
    "pd.set_option('display.max_columns', None)"
   ]
  },
  {
   "cell_type": "code",
   "execution_count": 120,
   "id": "cedcb525",
   "metadata": {},
   "outputs": [
    {
     "data": {
      "text/html": [
       "<div>\n",
       "<style scoped>\n",
       "    .dataframe tbody tr th:only-of-type {\n",
       "        vertical-align: middle;\n",
       "    }\n",
       "\n",
       "    .dataframe tbody tr th {\n",
       "        vertical-align: top;\n",
       "    }\n",
       "\n",
       "    .dataframe thead th {\n",
       "        text-align: right;\n",
       "    }\n",
       "</style>\n",
       "<table border=\"1\" class=\"dataframe\">\n",
       "  <thead>\n",
       "    <tr style=\"text-align: right;\">\n",
       "      <th></th>\n",
       "      <th>0</th>\n",
       "      <th>1</th>\n",
       "      <th>2</th>\n",
       "      <th>3</th>\n",
       "      <th>4</th>\n",
       "      <th>5</th>\n",
       "      <th>6</th>\n",
       "      <th>7</th>\n",
       "      <th>8</th>\n",
       "      <th>9</th>\n",
       "      <th>10</th>\n",
       "      <th>11</th>\n",
       "      <th>12</th>\n",
       "      <th>13</th>\n",
       "      <th>14</th>\n",
       "      <th>15</th>\n",
       "      <th>16</th>\n",
       "      <th>17</th>\n",
       "      <th>18</th>\n",
       "      <th>19</th>\n",
       "      <th>20</th>\n",
       "      <th>21</th>\n",
       "      <th>22</th>\n",
       "    </tr>\n",
       "  </thead>\n",
       "  <tbody>\n",
       "    <tr>\n",
       "      <th>0</th>\n",
       "      <td>CARDID</td>\n",
       "      <td>CARD_EXPR_DATE</td>\n",
       "      <td>AMOUNT</td>\n",
       "      <td>AMOUNT_INST</td>\n",
       "      <td>DATE_TIME</td>\n",
       "      <td>MCC</td>\n",
       "      <td>TERMINAL_ID</td>\n",
       "      <td>AUTH_RESP_CODE</td>\n",
       "      <td>PDC_CARDHOLDER_PRES</td>\n",
       "      <td>PDC_CARD_PRES</td>\n",
       "      <td>PDC_CARD_CAPTURE_CAP</td>\n",
       "      <td>MERCH_COUNTRY</td>\n",
       "      <td>MERCH_POSTAL_CODE</td>\n",
       "      <td>ACQ_INSTITUTION_ID</td>\n",
       "      <td>MERCH_CITY</td>\n",
       "      <td>MERCH_ID</td>\n",
       "      <td>CVV2_PRES</td>\n",
       "      <td>AUTH_RESP_CODE_FM</td>\n",
       "      <td>PIN_PRES</td>\n",
       "      <td>OFFLINE_PIN_PRES</td>\n",
       "      <td>ECI</td>\n",
       "      <td>TRANS_TYPE</td>\n",
       "      <td>MARKED_DATE</td>\n",
       "    </tr>\n",
       "    <tr>\n",
       "      <th>1</th>\n",
       "      <td>AAAXXNAAFAAAA7zAAE</td>\n",
       "      <td>1910</td>\n",
       "      <td>139 730</td>\n",
       "      <td>168 556</td>\n",
       "      <td>10/5/2017 11:22:05.000000 AM</td>\n",
       "      <td>5 967</td>\n",
       "      <td>C0175001</td>\n",
       "      <td>170</td>\n",
       "      <td>5</td>\n",
       "      <td>0</td>\n",
       "      <td>0</td>\n",
       "      <td>KWT</td>\n",
       "      <td>NaN</td>\n",
       "      <td>NaN</td>\n",
       "      <td>60009704</td>\n",
       "      <td>000175001</td>\n",
       "      <td>1</td>\n",
       "      <td>NaN</td>\n",
       "      <td>0</td>\n",
       "      <td>0</td>\n",
       "      <td>-1</td>\n",
       "      <td>680</td>\n",
       "      <td>NaN</td>\n",
       "    </tr>\n",
       "    <tr>\n",
       "      <th>2</th>\n",
       "      <td>AAAXXNAAFAAAA70AAA</td>\n",
       "      <td>1904</td>\n",
       "      <td>999</td>\n",
       "      <td>3 636</td>\n",
       "      <td>10/21/2017 4:53:22.000000 PM</td>\n",
       "      <td>5 968</td>\n",
       "      <td>WPGTID01</td>\n",
       "      <td>0</td>\n",
       "      <td>3</td>\n",
       "      <td>0</td>\n",
       "      <td>0</td>\n",
       "      <td>LUX</td>\n",
       "      <td>NaN</td>\n",
       "      <td>NaN</td>\n",
       "      <td>LUXEMBOURG</td>\n",
       "      <td>01632643</td>\n",
       "      <td>0</td>\n",
       "      <td>NaN</td>\n",
       "      <td>0</td>\n",
       "      <td>0</td>\n",
       "      <td>-1</td>\n",
       "      <td>0</td>\n",
       "      <td>NaN</td>\n",
       "    </tr>\n",
       "    <tr>\n",
       "      <th>3</th>\n",
       "      <td>AAAXXNAAFAAAA71AAG</td>\n",
       "      <td>2012</td>\n",
       "      <td>17 674</td>\n",
       "      <td>64 333</td>\n",
       "      <td>12/4/2017 4:23:43.000000 AM</td>\n",
       "      <td>4 722</td>\n",
       "      <td>00000001</td>\n",
       "      <td>0</td>\n",
       "      <td>5</td>\n",
       "      <td>0</td>\n",
       "      <td>0</td>\n",
       "      <td>USA</td>\n",
       "      <td>92123</td>\n",
       "      <td>NaN</td>\n",
       "      <td>SAN DIEGO</td>\n",
       "      <td>000445205771998</td>\n",
       "      <td>0</td>\n",
       "      <td>NaN</td>\n",
       "      <td>0</td>\n",
       "      <td>0</td>\n",
       "      <td>-1</td>\n",
       "      <td>680</td>\n",
       "      <td>NaN</td>\n",
       "    </tr>\n",
       "    <tr>\n",
       "      <th>4</th>\n",
       "      <td>AAAXXNAACAAAHmRAAA</td>\n",
       "      <td>2210</td>\n",
       "      <td>7 430</td>\n",
       "      <td>7 430</td>\n",
       "      <td>11/24/2017 3:02:05.000000 PM</td>\n",
       "      <td>6 300</td>\n",
       "      <td>WPGTID01</td>\n",
       "      <td>0</td>\n",
       "      <td>5</td>\n",
       "      <td>0</td>\n",
       "      <td>0</td>\n",
       "      <td>GBR</td>\n",
       "      <td>NaN</td>\n",
       "      <td>NaN</td>\n",
       "      <td>STREET</td>\n",
       "      <td>41134813</td>\n",
       "      <td>1</td>\n",
       "      <td>NaN</td>\n",
       "      <td>0</td>\n",
       "      <td>0</td>\n",
       "      <td>-1</td>\n",
       "      <td>680</td>\n",
       "      <td>NaN</td>\n",
       "    </tr>\n",
       "  </tbody>\n",
       "</table>\n",
       "</div>"
      ],
      "text/plain": [
       "                   0               1        2            3   \\\n",
       "0              CARDID  CARD_EXPR_DATE   AMOUNT  AMOUNT_INST   \n",
       "1  AAAXXNAAFAAAA7zAAE            1910  139 730      168 556   \n",
       "2  AAAXXNAAFAAAA70AAA            1904      999        3 636   \n",
       "3  AAAXXNAAFAAAA71AAG            2012   17 674       64 333   \n",
       "4  AAAXXNAACAAAHmRAAA            2210    7 430        7 430   \n",
       "\n",
       "                             4      5            6               7   \\\n",
       "0                     DATE_TIME    MCC  TERMINAL_ID  AUTH_RESP_CODE   \n",
       "1  10/5/2017 11:22:05.000000 AM  5 967     C0175001             170   \n",
       "2  10/21/2017 4:53:22.000000 PM  5 968     WPGTID01               0   \n",
       "3   12/4/2017 4:23:43.000000 AM  4 722     00000001               0   \n",
       "4  11/24/2017 3:02:05.000000 PM  6 300     WPGTID01               0   \n",
       "\n",
       "                    8              9                     10             11  \\\n",
       "0  PDC_CARDHOLDER_PRES  PDC_CARD_PRES  PDC_CARD_CAPTURE_CAP  MERCH_COUNTRY   \n",
       "1                    5              0                     0            KWT   \n",
       "2                    3              0                     0            LUX   \n",
       "3                    5              0                     0            USA   \n",
       "4                    5              0                     0            GBR   \n",
       "\n",
       "                  12                  13          14               15  \\\n",
       "0  MERCH_POSTAL_CODE  ACQ_INSTITUTION_ID  MERCH_CITY         MERCH_ID   \n",
       "1                NaN                 NaN    60009704        000175001   \n",
       "2                NaN                 NaN  LUXEMBOURG         01632643   \n",
       "3              92123                 NaN   SAN DIEGO  000445205771998   \n",
       "4                NaN                 NaN      STREET         41134813   \n",
       "\n",
       "          16                 17        18                19   20          21  \\\n",
       "0  CVV2_PRES  AUTH_RESP_CODE_FM  PIN_PRES  OFFLINE_PIN_PRES  ECI  TRANS_TYPE   \n",
       "1          1                NaN         0                 0   -1         680   \n",
       "2          0                NaN         0                 0   -1           0   \n",
       "3          0                NaN         0                 0   -1         680   \n",
       "4          1                NaN         0                 0   -1         680   \n",
       "\n",
       "            22  \n",
       "0  MARKED_DATE  \n",
       "1          NaN  \n",
       "2          NaN  \n",
       "3          NaN  \n",
       "4          NaN  "
      ]
     },
     "execution_count": 120,
     "metadata": {},
     "output_type": "execute_result"
    }
   ],
   "source": [
    "df.head( )"
   ]
  },
  {
   "cell_type": "code",
   "execution_count": 121,
   "id": "3992b46e",
   "metadata": {},
   "outputs": [],
   "source": [
    "proc_df = df\n",
    "for i in range(23):\n",
    "    proc_df = proc_df.rename(columns={i:df[i][0]})"
   ]
  },
  {
   "cell_type": "code",
   "execution_count": 122,
   "id": "df891b09",
   "metadata": {},
   "outputs": [],
   "source": [
    "proc_df = proc_df.drop(0, axis=0)"
   ]
  },
  {
   "cell_type": "code",
   "execution_count": 123,
   "id": "652c59fd",
   "metadata": {},
   "outputs": [
    {
     "data": {
      "text/plain": [
       "(64999, 23)"
      ]
     },
     "execution_count": 123,
     "metadata": {},
     "output_type": "execute_result"
    }
   ],
   "source": [
    "proc_df.shape"
   ]
  },
  {
   "cell_type": "code",
   "execution_count": 124,
   "id": "f971d388",
   "metadata": {},
   "outputs": [
    {
     "data": {
      "text/html": [
       "<div>\n",
       "<style scoped>\n",
       "    .dataframe tbody tr th:only-of-type {\n",
       "        vertical-align: middle;\n",
       "    }\n",
       "\n",
       "    .dataframe tbody tr th {\n",
       "        vertical-align: top;\n",
       "    }\n",
       "\n",
       "    .dataframe thead th {\n",
       "        text-align: right;\n",
       "    }\n",
       "</style>\n",
       "<table border=\"1\" class=\"dataframe\">\n",
       "  <thead>\n",
       "    <tr style=\"text-align: right;\">\n",
       "      <th></th>\n",
       "      <th>CARDID</th>\n",
       "      <th>CARD_EXPR_DATE</th>\n",
       "      <th>AMOUNT</th>\n",
       "      <th>AMOUNT_INST</th>\n",
       "      <th>DATE_TIME</th>\n",
       "      <th>MCC</th>\n",
       "      <th>TERMINAL_ID</th>\n",
       "      <th>AUTH_RESP_CODE</th>\n",
       "      <th>PDC_CARDHOLDER_PRES</th>\n",
       "      <th>PDC_CARD_PRES</th>\n",
       "      <th>PDC_CARD_CAPTURE_CAP</th>\n",
       "      <th>MERCH_COUNTRY</th>\n",
       "      <th>MERCH_POSTAL_CODE</th>\n",
       "      <th>ACQ_INSTITUTION_ID</th>\n",
       "      <th>MERCH_CITY</th>\n",
       "      <th>MERCH_ID</th>\n",
       "      <th>CVV2_PRES</th>\n",
       "      <th>AUTH_RESP_CODE_FM</th>\n",
       "      <th>PIN_PRES</th>\n",
       "      <th>OFFLINE_PIN_PRES</th>\n",
       "      <th>ECI</th>\n",
       "      <th>TRANS_TYPE</th>\n",
       "      <th>MARKED_DATE</th>\n",
       "    </tr>\n",
       "  </thead>\n",
       "  <tbody>\n",
       "    <tr>\n",
       "      <th>1</th>\n",
       "      <td>AAAXXNAAFAAAA7zAAE</td>\n",
       "      <td>1910</td>\n",
       "      <td>139 730</td>\n",
       "      <td>168 556</td>\n",
       "      <td>10/5/2017 11:22:05.000000 AM</td>\n",
       "      <td>5 967</td>\n",
       "      <td>C0175001</td>\n",
       "      <td>170</td>\n",
       "      <td>5</td>\n",
       "      <td>0</td>\n",
       "      <td>0</td>\n",
       "      <td>KWT</td>\n",
       "      <td>NaN</td>\n",
       "      <td>NaN</td>\n",
       "      <td>60009704</td>\n",
       "      <td>000175001</td>\n",
       "      <td>1</td>\n",
       "      <td>NaN</td>\n",
       "      <td>0</td>\n",
       "      <td>0</td>\n",
       "      <td>-1</td>\n",
       "      <td>680</td>\n",
       "      <td>NaN</td>\n",
       "    </tr>\n",
       "    <tr>\n",
       "      <th>2</th>\n",
       "      <td>AAAXXNAAFAAAA70AAA</td>\n",
       "      <td>1904</td>\n",
       "      <td>999</td>\n",
       "      <td>3 636</td>\n",
       "      <td>10/21/2017 4:53:22.000000 PM</td>\n",
       "      <td>5 968</td>\n",
       "      <td>WPGTID01</td>\n",
       "      <td>0</td>\n",
       "      <td>3</td>\n",
       "      <td>0</td>\n",
       "      <td>0</td>\n",
       "      <td>LUX</td>\n",
       "      <td>NaN</td>\n",
       "      <td>NaN</td>\n",
       "      <td>LUXEMBOURG</td>\n",
       "      <td>01632643</td>\n",
       "      <td>0</td>\n",
       "      <td>NaN</td>\n",
       "      <td>0</td>\n",
       "      <td>0</td>\n",
       "      <td>-1</td>\n",
       "      <td>0</td>\n",
       "      <td>NaN</td>\n",
       "    </tr>\n",
       "    <tr>\n",
       "      <th>3</th>\n",
       "      <td>AAAXXNAAFAAAA71AAG</td>\n",
       "      <td>2012</td>\n",
       "      <td>17 674</td>\n",
       "      <td>64 333</td>\n",
       "      <td>12/4/2017 4:23:43.000000 AM</td>\n",
       "      <td>4 722</td>\n",
       "      <td>00000001</td>\n",
       "      <td>0</td>\n",
       "      <td>5</td>\n",
       "      <td>0</td>\n",
       "      <td>0</td>\n",
       "      <td>USA</td>\n",
       "      <td>92123</td>\n",
       "      <td>NaN</td>\n",
       "      <td>SAN DIEGO</td>\n",
       "      <td>000445205771998</td>\n",
       "      <td>0</td>\n",
       "      <td>NaN</td>\n",
       "      <td>0</td>\n",
       "      <td>0</td>\n",
       "      <td>-1</td>\n",
       "      <td>680</td>\n",
       "      <td>NaN</td>\n",
       "    </tr>\n",
       "    <tr>\n",
       "      <th>4</th>\n",
       "      <td>AAAXXNAACAAAHmRAAA</td>\n",
       "      <td>2210</td>\n",
       "      <td>7 430</td>\n",
       "      <td>7 430</td>\n",
       "      <td>11/24/2017 3:02:05.000000 PM</td>\n",
       "      <td>6 300</td>\n",
       "      <td>WPGTID01</td>\n",
       "      <td>0</td>\n",
       "      <td>5</td>\n",
       "      <td>0</td>\n",
       "      <td>0</td>\n",
       "      <td>GBR</td>\n",
       "      <td>NaN</td>\n",
       "      <td>NaN</td>\n",
       "      <td>STREET</td>\n",
       "      <td>41134813</td>\n",
       "      <td>1</td>\n",
       "      <td>NaN</td>\n",
       "      <td>0</td>\n",
       "      <td>0</td>\n",
       "      <td>-1</td>\n",
       "      <td>680</td>\n",
       "      <td>NaN</td>\n",
       "    </tr>\n",
       "    <tr>\n",
       "      <th>5</th>\n",
       "      <td>AAAXXNAAFAAAA72AAT</td>\n",
       "      <td>1912</td>\n",
       "      <td>170 000</td>\n",
       "      <td>204 657</td>\n",
       "      <td>11/10/2017 10:24:54.000000 AM</td>\n",
       "      <td>5 967</td>\n",
       "      <td>C0175001</td>\n",
       "      <td>0</td>\n",
       "      <td>5</td>\n",
       "      <td>0</td>\n",
       "      <td>0</td>\n",
       "      <td>KWT</td>\n",
       "      <td>NaN</td>\n",
       "      <td>NaN</td>\n",
       "      <td>60009704</td>\n",
       "      <td>000175001</td>\n",
       "      <td>1</td>\n",
       "      <td>NaN</td>\n",
       "      <td>0</td>\n",
       "      <td>0</td>\n",
       "      <td>-1</td>\n",
       "      <td>680</td>\n",
       "      <td>NaN</td>\n",
       "    </tr>\n",
       "  </tbody>\n",
       "</table>\n",
       "</div>"
      ],
      "text/plain": [
       "               CARDID CARD_EXPR_DATE   AMOUNT AMOUNT_INST  \\\n",
       "1  AAAXXNAAFAAAA7zAAE           1910  139 730     168 556   \n",
       "2  AAAXXNAAFAAAA70AAA           1904      999       3 636   \n",
       "3  AAAXXNAAFAAAA71AAG           2012   17 674      64 333   \n",
       "4  AAAXXNAACAAAHmRAAA           2210    7 430       7 430   \n",
       "5  AAAXXNAAFAAAA72AAT           1912  170 000     204 657   \n",
       "\n",
       "                       DATE_TIME    MCC TERMINAL_ID AUTH_RESP_CODE  \\\n",
       "1   10/5/2017 11:22:05.000000 AM  5 967    C0175001            170   \n",
       "2   10/21/2017 4:53:22.000000 PM  5 968    WPGTID01              0   \n",
       "3    12/4/2017 4:23:43.000000 AM  4 722    00000001              0   \n",
       "4   11/24/2017 3:02:05.000000 PM  6 300    WPGTID01              0   \n",
       "5  11/10/2017 10:24:54.000000 AM  5 967    C0175001              0   \n",
       "\n",
       "  PDC_CARDHOLDER_PRES PDC_CARD_PRES PDC_CARD_CAPTURE_CAP MERCH_COUNTRY  \\\n",
       "1                   5             0                    0           KWT   \n",
       "2                   3             0                    0           LUX   \n",
       "3                   5             0                    0           USA   \n",
       "4                   5             0                    0           GBR   \n",
       "5                   5             0                    0           KWT   \n",
       "\n",
       "  MERCH_POSTAL_CODE ACQ_INSTITUTION_ID  MERCH_CITY         MERCH_ID CVV2_PRES  \\\n",
       "1               NaN                NaN    60009704        000175001         1   \n",
       "2               NaN                NaN  LUXEMBOURG         01632643         0   \n",
       "3             92123                NaN   SAN DIEGO  000445205771998         0   \n",
       "4               NaN                NaN      STREET         41134813         1   \n",
       "5               NaN                NaN    60009704        000175001         1   \n",
       "\n",
       "  AUTH_RESP_CODE_FM PIN_PRES OFFLINE_PIN_PRES ECI TRANS_TYPE MARKED_DATE  \n",
       "1               NaN        0                0  -1        680         NaN  \n",
       "2               NaN        0                0  -1          0         NaN  \n",
       "3               NaN        0                0  -1        680         NaN  \n",
       "4               NaN        0                0  -1        680         NaN  \n",
       "5               NaN        0                0  -1        680         NaN  "
      ]
     },
     "execution_count": 124,
     "metadata": {},
     "output_type": "execute_result"
    }
   ],
   "source": [
    "proc_df.head()"
   ]
  },
  {
   "cell_type": "code",
   "execution_count": 125,
   "id": "7145c2d8",
   "metadata": {},
   "outputs": [],
   "source": [
    "# proc_df.dtypes"
   ]
  },
  {
   "cell_type": "code",
   "execution_count": 126,
   "id": "08a0930c",
   "metadata": {},
   "outputs": [
    {
     "data": {
      "text/plain": [
       "array(['680', '0', '774', '773', '671', '736', '704', '797', '508', '700',\n",
       "       '802', '757', '803', '799', '812', '777', '751', 680, 736, 774, 0,\n",
       "       773, 671, 508, 802, 777, 700, 704, 805, 812, 803, 757, 698, 703,\n",
       "       815, 799, 751, 806], dtype=object)"
      ]
     },
     "execution_count": 126,
     "metadata": {},
     "output_type": "execute_result"
    }
   ],
   "source": [
    "proc_df['TRANS_TYPE'].unique()"
   ]
  },
  {
   "cell_type": "code",
   "execution_count": 127,
   "id": "4a57b317",
   "metadata": {},
   "outputs": [
    {
     "data": {
      "text/plain": [
       "(64999, 23)"
      ]
     },
     "execution_count": 127,
     "metadata": {},
     "output_type": "execute_result"
    }
   ],
   "source": [
    "proc_df.shape"
   ]
  },
  {
   "cell_type": "code",
   "execution_count": 128,
   "id": "6423e0c5",
   "metadata": {},
   "outputs": [
    {
     "data": {
      "text/plain": [
       "0"
      ]
     },
     "execution_count": 128,
     "metadata": {},
     "output_type": "execute_result"
    }
   ],
   "source": [
    "proc_df['OFFLINE_PIN_PRES'].isna().sum()"
   ]
  },
  {
   "cell_type": "code",
   "execution_count": 129,
   "id": "efe6e3bd",
   "metadata": {},
   "outputs": [],
   "source": [
    "# AUTH_RESP_CODE - коды распределены довольно плотно - отбрасываем\n",
    "# PDC_CARDHOLDER_PRES - коды распределены тоже неясно\n",
    "# AUTH_RESP_CODE_FM - Nan - можно заменить на 0, а 0 на 1\n",
    "# TRANS_TYPE - слишком много различных значений у номинативной переменной"
   ]
  },
  {
   "cell_type": "code",
   "execution_count": 130,
   "id": "7a735b87",
   "metadata": {},
   "outputs": [
    {
     "data": {
      "text/plain": [
       "0.0    493\n",
       "Name: AUTH_RESP_CODE_FM, dtype: int64"
      ]
     },
     "execution_count": 130,
     "metadata": {},
     "output_type": "execute_result"
    }
   ],
   "source": [
    "proc_df['AUTH_RESP_CODE_FM'].astype({\"AUTH_RESP_CODE_FM\": \"float64\"}).value_counts()"
   ]
  },
  {
   "cell_type": "code",
   "execution_count": 131,
   "id": "8da80e8c",
   "metadata": {},
   "outputs": [],
   "source": [
    "# lets drop nominal variables\n",
    "proc_df = proc_df.drop(['CARDID',\n",
    "                        'TERMINAL_ID',\n",
    "                        'MCC',\n",
    "                        'TERMINAL_ID',\n",
    "                        'AUTH_RESP_CODE',\n",
    "                        'PDC_CARDHOLDER_PRES',\n",
    "                        'MERCH_COUNTRY',\n",
    "                        'MERCH_POSTAL_CODE',\n",
    "                        'ACQ_INSTITUTION_ID',\n",
    "                        'MERCH_CITY',\n",
    "                        'MERCH_ID',\n",
    "                        'OFFLINE_PIN_PRES',\n",
    "                        'ECI',\n",
    "                        'TRANS_TYPE'\n",
    "                       ], axis=1)"
   ]
  },
  {
   "cell_type": "code",
   "execution_count": 132,
   "id": "47462db1",
   "metadata": {},
   "outputs": [
    {
     "data": {
      "text/html": [
       "<div>\n",
       "<style scoped>\n",
       "    .dataframe tbody tr th:only-of-type {\n",
       "        vertical-align: middle;\n",
       "    }\n",
       "\n",
       "    .dataframe tbody tr th {\n",
       "        vertical-align: top;\n",
       "    }\n",
       "\n",
       "    .dataframe thead th {\n",
       "        text-align: right;\n",
       "    }\n",
       "</style>\n",
       "<table border=\"1\" class=\"dataframe\">\n",
       "  <thead>\n",
       "    <tr style=\"text-align: right;\">\n",
       "      <th></th>\n",
       "      <th>CARD_EXPR_DATE</th>\n",
       "      <th>AMOUNT</th>\n",
       "      <th>AMOUNT_INST</th>\n",
       "      <th>DATE_TIME</th>\n",
       "      <th>PDC_CARD_PRES</th>\n",
       "      <th>PDC_CARD_CAPTURE_CAP</th>\n",
       "      <th>CVV2_PRES</th>\n",
       "      <th>AUTH_RESP_CODE_FM</th>\n",
       "      <th>PIN_PRES</th>\n",
       "      <th>MARKED_DATE</th>\n",
       "    </tr>\n",
       "  </thead>\n",
       "  <tbody>\n",
       "    <tr>\n",
       "      <th>1</th>\n",
       "      <td>1910</td>\n",
       "      <td>139 730</td>\n",
       "      <td>168 556</td>\n",
       "      <td>10/5/2017 11:22:05.000000 AM</td>\n",
       "      <td>0</td>\n",
       "      <td>0</td>\n",
       "      <td>1</td>\n",
       "      <td>NaN</td>\n",
       "      <td>0</td>\n",
       "      <td>NaN</td>\n",
       "    </tr>\n",
       "    <tr>\n",
       "      <th>2</th>\n",
       "      <td>1904</td>\n",
       "      <td>999</td>\n",
       "      <td>3 636</td>\n",
       "      <td>10/21/2017 4:53:22.000000 PM</td>\n",
       "      <td>0</td>\n",
       "      <td>0</td>\n",
       "      <td>0</td>\n",
       "      <td>NaN</td>\n",
       "      <td>0</td>\n",
       "      <td>NaN</td>\n",
       "    </tr>\n",
       "    <tr>\n",
       "      <th>3</th>\n",
       "      <td>2012</td>\n",
       "      <td>17 674</td>\n",
       "      <td>64 333</td>\n",
       "      <td>12/4/2017 4:23:43.000000 AM</td>\n",
       "      <td>0</td>\n",
       "      <td>0</td>\n",
       "      <td>0</td>\n",
       "      <td>NaN</td>\n",
       "      <td>0</td>\n",
       "      <td>NaN</td>\n",
       "    </tr>\n",
       "    <tr>\n",
       "      <th>4</th>\n",
       "      <td>2210</td>\n",
       "      <td>7 430</td>\n",
       "      <td>7 430</td>\n",
       "      <td>11/24/2017 3:02:05.000000 PM</td>\n",
       "      <td>0</td>\n",
       "      <td>0</td>\n",
       "      <td>1</td>\n",
       "      <td>NaN</td>\n",
       "      <td>0</td>\n",
       "      <td>NaN</td>\n",
       "    </tr>\n",
       "    <tr>\n",
       "      <th>5</th>\n",
       "      <td>1912</td>\n",
       "      <td>170 000</td>\n",
       "      <td>204 657</td>\n",
       "      <td>11/10/2017 10:24:54.000000 AM</td>\n",
       "      <td>0</td>\n",
       "      <td>0</td>\n",
       "      <td>1</td>\n",
       "      <td>NaN</td>\n",
       "      <td>0</td>\n",
       "      <td>NaN</td>\n",
       "    </tr>\n",
       "  </tbody>\n",
       "</table>\n",
       "</div>"
      ],
      "text/plain": [
       "  CARD_EXPR_DATE   AMOUNT AMOUNT_INST                      DATE_TIME  \\\n",
       "1           1910  139 730     168 556   10/5/2017 11:22:05.000000 AM   \n",
       "2           1904      999       3 636   10/21/2017 4:53:22.000000 PM   \n",
       "3           2012   17 674      64 333    12/4/2017 4:23:43.000000 AM   \n",
       "4           2210    7 430       7 430   11/24/2017 3:02:05.000000 PM   \n",
       "5           1912  170 000     204 657  11/10/2017 10:24:54.000000 AM   \n",
       "\n",
       "  PDC_CARD_PRES PDC_CARD_CAPTURE_CAP CVV2_PRES AUTH_RESP_CODE_FM PIN_PRES  \\\n",
       "1             0                    0         1               NaN        0   \n",
       "2             0                    0         0               NaN        0   \n",
       "3             0                    0         0               NaN        0   \n",
       "4             0                    0         1               NaN        0   \n",
       "5             0                    0         1               NaN        0   \n",
       "\n",
       "  MARKED_DATE  \n",
       "1         NaN  \n",
       "2         NaN  \n",
       "3         NaN  \n",
       "4         NaN  \n",
       "5         NaN  "
      ]
     },
     "execution_count": 132,
     "metadata": {},
     "output_type": "execute_result"
    }
   ],
   "source": [
    "proc_df.head()"
   ]
  },
  {
   "cell_type": "code",
   "execution_count": 133,
   "id": "b410fb4f",
   "metadata": {},
   "outputs": [
    {
     "data": {
      "text/plain": [
       "CARD_EXPR_DATE          object\n",
       "AMOUNT                  object\n",
       "AMOUNT_INST             object\n",
       "DATE_TIME               object\n",
       "PDC_CARD_PRES           object\n",
       "PDC_CARD_CAPTURE_CAP    object\n",
       "CVV2_PRES               object\n",
       "AUTH_RESP_CODE_FM       object\n",
       "PIN_PRES                object\n",
       "MARKED_DATE             object\n",
       "dtype: object"
      ]
     },
     "execution_count": 133,
     "metadata": {},
     "output_type": "execute_result"
    }
   ],
   "source": [
    "proc_df.dtypes"
   ]
  },
  {
   "cell_type": "code",
   "execution_count": 134,
   "id": "db0fa03f",
   "metadata": {},
   "outputs": [
    {
     "data": {
      "text/plain": [
       "(64999, 10)"
      ]
     },
     "execution_count": 134,
     "metadata": {},
     "output_type": "execute_result"
    }
   ],
   "source": [
    "proc_df.shape"
   ]
  },
  {
   "cell_type": "code",
   "execution_count": 135,
   "id": "cb17c533",
   "metadata": {
    "scrolled": true
   },
   "outputs": [
    {
     "data": {
      "text/plain": [
       "CARD_EXPR_DATE        isna        0\n",
       "AMOUNT                isna        0\n",
       "AMOUNT_INST           isna        0\n",
       "DATE_TIME             isna        0\n",
       "PDC_CARD_PRES         isna        0\n",
       "PDC_CARD_CAPTURE_CAP  isna        0\n",
       "CVV2_PRES             isna        0\n",
       "AUTH_RESP_CODE_FM     isna    64506\n",
       "PIN_PRES              isna        0\n",
       "MARKED_DATE           isna    62632\n",
       "dtype: int64"
      ]
     },
     "execution_count": 135,
     "metadata": {},
     "output_type": "execute_result"
    }
   ],
   "source": [
    "proc_df.agg(['isna']).sum()"
   ]
  },
  {
   "cell_type": "code",
   "execution_count": 136,
   "id": "31632f08",
   "metadata": {},
   "outputs": [
    {
     "data": {
      "text/plain": [
       "1        True\n",
       "2        True\n",
       "3        True\n",
       "4        True\n",
       "5        True\n",
       "         ... \n",
       "64995    True\n",
       "64996    True\n",
       "64997    True\n",
       "64998    True\n",
       "64999    True\n",
       "Name: MARKED_DATE, Length: 64999, dtype: bool"
      ]
     },
     "execution_count": 136,
     "metadata": {},
     "output_type": "execute_result"
    }
   ],
   "source": [
    "proc_df['MARKED_DATE'].isna()"
   ]
  },
  {
   "cell_type": "code",
   "execution_count": 137,
   "id": "1c1af20a",
   "metadata": {},
   "outputs": [],
   "source": [
    "proc_df['AUTH_RESP_CODE_FM'][proc_df['AUTH_RESP_CODE_FM'].isna()] = 1"
   ]
  },
  {
   "cell_type": "code",
   "execution_count": 138,
   "id": "2673d78e",
   "metadata": {},
   "outputs": [],
   "source": [
    "mask = proc_df['MARKED_DATE'].isna()"
   ]
  },
  {
   "cell_type": "code",
   "execution_count": 139,
   "id": "f061ac78",
   "metadata": {},
   "outputs": [],
   "source": [
    "mask_inverse = (1 - mask).astype(bool)"
   ]
  },
  {
   "cell_type": "code",
   "execution_count": 140,
   "id": "2d19c89b",
   "metadata": {},
   "outputs": [],
   "source": [
    "proc_df['MARKED_DATE'][mask] = 0\n",
    "proc_df['MARKED_DATE'][mask_inverse] = 1"
   ]
  },
  {
   "cell_type": "code",
   "execution_count": 141,
   "id": "80867034",
   "metadata": {
    "scrolled": true
   },
   "outputs": [
    {
     "data": {
      "text/html": [
       "<div>\n",
       "<style scoped>\n",
       "    .dataframe tbody tr th:only-of-type {\n",
       "        vertical-align: middle;\n",
       "    }\n",
       "\n",
       "    .dataframe tbody tr th {\n",
       "        vertical-align: top;\n",
       "    }\n",
       "\n",
       "    .dataframe thead th {\n",
       "        text-align: right;\n",
       "    }\n",
       "</style>\n",
       "<table border=\"1\" class=\"dataframe\">\n",
       "  <thead>\n",
       "    <tr style=\"text-align: right;\">\n",
       "      <th></th>\n",
       "      <th>CARD_EXPR_DATE</th>\n",
       "      <th>AMOUNT</th>\n",
       "      <th>AMOUNT_INST</th>\n",
       "      <th>DATE_TIME</th>\n",
       "      <th>PDC_CARD_PRES</th>\n",
       "      <th>PDC_CARD_CAPTURE_CAP</th>\n",
       "      <th>CVV2_PRES</th>\n",
       "      <th>AUTH_RESP_CODE_FM</th>\n",
       "      <th>PIN_PRES</th>\n",
       "      <th>MARKED_DATE</th>\n",
       "    </tr>\n",
       "  </thead>\n",
       "  <tbody>\n",
       "    <tr>\n",
       "      <th>1</th>\n",
       "      <td>1910</td>\n",
       "      <td>139 730</td>\n",
       "      <td>168 556</td>\n",
       "      <td>10/5/2017 11:22:05.000000 AM</td>\n",
       "      <td>0</td>\n",
       "      <td>0</td>\n",
       "      <td>1</td>\n",
       "      <td>1</td>\n",
       "      <td>0</td>\n",
       "      <td>0</td>\n",
       "    </tr>\n",
       "    <tr>\n",
       "      <th>2</th>\n",
       "      <td>1904</td>\n",
       "      <td>999</td>\n",
       "      <td>3 636</td>\n",
       "      <td>10/21/2017 4:53:22.000000 PM</td>\n",
       "      <td>0</td>\n",
       "      <td>0</td>\n",
       "      <td>0</td>\n",
       "      <td>1</td>\n",
       "      <td>0</td>\n",
       "      <td>0</td>\n",
       "    </tr>\n",
       "    <tr>\n",
       "      <th>3</th>\n",
       "      <td>2012</td>\n",
       "      <td>17 674</td>\n",
       "      <td>64 333</td>\n",
       "      <td>12/4/2017 4:23:43.000000 AM</td>\n",
       "      <td>0</td>\n",
       "      <td>0</td>\n",
       "      <td>0</td>\n",
       "      <td>1</td>\n",
       "      <td>0</td>\n",
       "      <td>0</td>\n",
       "    </tr>\n",
       "    <tr>\n",
       "      <th>4</th>\n",
       "      <td>2210</td>\n",
       "      <td>7 430</td>\n",
       "      <td>7 430</td>\n",
       "      <td>11/24/2017 3:02:05.000000 PM</td>\n",
       "      <td>0</td>\n",
       "      <td>0</td>\n",
       "      <td>1</td>\n",
       "      <td>1</td>\n",
       "      <td>0</td>\n",
       "      <td>0</td>\n",
       "    </tr>\n",
       "    <tr>\n",
       "      <th>5</th>\n",
       "      <td>1912</td>\n",
       "      <td>170 000</td>\n",
       "      <td>204 657</td>\n",
       "      <td>11/10/2017 10:24:54.000000 AM</td>\n",
       "      <td>0</td>\n",
       "      <td>0</td>\n",
       "      <td>1</td>\n",
       "      <td>1</td>\n",
       "      <td>0</td>\n",
       "      <td>0</td>\n",
       "    </tr>\n",
       "  </tbody>\n",
       "</table>\n",
       "</div>"
      ],
      "text/plain": [
       "  CARD_EXPR_DATE   AMOUNT AMOUNT_INST                      DATE_TIME  \\\n",
       "1           1910  139 730     168 556   10/5/2017 11:22:05.000000 AM   \n",
       "2           1904      999       3 636   10/21/2017 4:53:22.000000 PM   \n",
       "3           2012   17 674      64 333    12/4/2017 4:23:43.000000 AM   \n",
       "4           2210    7 430       7 430   11/24/2017 3:02:05.000000 PM   \n",
       "5           1912  170 000     204 657  11/10/2017 10:24:54.000000 AM   \n",
       "\n",
       "  PDC_CARD_PRES PDC_CARD_CAPTURE_CAP CVV2_PRES AUTH_RESP_CODE_FM PIN_PRES  \\\n",
       "1             0                    0         1                 1        0   \n",
       "2             0                    0         0                 1        0   \n",
       "3             0                    0         0                 1        0   \n",
       "4             0                    0         1                 1        0   \n",
       "5             0                    0         1                 1        0   \n",
       "\n",
       "  MARKED_DATE  \n",
       "1           0  \n",
       "2           0  \n",
       "3           0  \n",
       "4           0  \n",
       "5           0  "
      ]
     },
     "execution_count": 141,
     "metadata": {},
     "output_type": "execute_result"
    }
   ],
   "source": [
    "proc_df.head()"
   ]
  },
  {
   "cell_type": "code",
   "execution_count": null,
   "id": "21255c62",
   "metadata": {},
   "outputs": [],
   "source": []
  },
  {
   "cell_type": "code",
   "execution_count": 142,
   "id": "f5c2f3a7",
   "metadata": {},
   "outputs": [],
   "source": [
    "proc_df['AMOUNT'] = proc_df['AMOUNT'].str.replace(' ', '')\n",
    "proc_df['AMOUNT_INST'] = proc_df['AMOUNT_INST'].str.replace(' ', '')\n",
    "proc_df['DATE_TIME'] = pd.to_datetime(proc_df['DATE_TIME'])\n"
   ]
  },
  {
   "cell_type": "code",
   "execution_count": null,
   "id": "9dae64d5",
   "metadata": {},
   "outputs": [],
   "source": []
  },
  {
   "cell_type": "code",
   "execution_count": 143,
   "id": "959df842",
   "metadata": {
    "scrolled": true
   },
   "outputs": [
    {
     "data": {
      "text/html": [
       "<div>\n",
       "<style scoped>\n",
       "    .dataframe tbody tr th:only-of-type {\n",
       "        vertical-align: middle;\n",
       "    }\n",
       "\n",
       "    .dataframe tbody tr th {\n",
       "        vertical-align: top;\n",
       "    }\n",
       "\n",
       "    .dataframe thead th {\n",
       "        text-align: right;\n",
       "    }\n",
       "</style>\n",
       "<table border=\"1\" class=\"dataframe\">\n",
       "  <thead>\n",
       "    <tr style=\"text-align: right;\">\n",
       "      <th></th>\n",
       "      <th>CARD_EXPR_DATE</th>\n",
       "      <th>AMOUNT</th>\n",
       "      <th>AMOUNT_INST</th>\n",
       "      <th>DATE_TIME</th>\n",
       "      <th>PDC_CARD_PRES</th>\n",
       "      <th>PDC_CARD_CAPTURE_CAP</th>\n",
       "      <th>CVV2_PRES</th>\n",
       "      <th>AUTH_RESP_CODE_FM</th>\n",
       "      <th>PIN_PRES</th>\n",
       "      <th>MARKED_DATE</th>\n",
       "    </tr>\n",
       "  </thead>\n",
       "  <tbody>\n",
       "    <tr>\n",
       "      <th>1</th>\n",
       "      <td>1910</td>\n",
       "      <td>139730</td>\n",
       "      <td>168556</td>\n",
       "      <td>2017-10-05 11:22:05</td>\n",
       "      <td>0</td>\n",
       "      <td>0</td>\n",
       "      <td>1</td>\n",
       "      <td>1</td>\n",
       "      <td>0</td>\n",
       "      <td>0</td>\n",
       "    </tr>\n",
       "    <tr>\n",
       "      <th>2</th>\n",
       "      <td>1904</td>\n",
       "      <td>999</td>\n",
       "      <td>3636</td>\n",
       "      <td>2017-10-21 16:53:22</td>\n",
       "      <td>0</td>\n",
       "      <td>0</td>\n",
       "      <td>0</td>\n",
       "      <td>1</td>\n",
       "      <td>0</td>\n",
       "      <td>0</td>\n",
       "    </tr>\n",
       "    <tr>\n",
       "      <th>3</th>\n",
       "      <td>2012</td>\n",
       "      <td>17674</td>\n",
       "      <td>64333</td>\n",
       "      <td>2017-12-04 04:23:43</td>\n",
       "      <td>0</td>\n",
       "      <td>0</td>\n",
       "      <td>0</td>\n",
       "      <td>1</td>\n",
       "      <td>0</td>\n",
       "      <td>0</td>\n",
       "    </tr>\n",
       "    <tr>\n",
       "      <th>4</th>\n",
       "      <td>2210</td>\n",
       "      <td>7430</td>\n",
       "      <td>7430</td>\n",
       "      <td>2017-11-24 15:02:05</td>\n",
       "      <td>0</td>\n",
       "      <td>0</td>\n",
       "      <td>1</td>\n",
       "      <td>1</td>\n",
       "      <td>0</td>\n",
       "      <td>0</td>\n",
       "    </tr>\n",
       "    <tr>\n",
       "      <th>5</th>\n",
       "      <td>1912</td>\n",
       "      <td>170000</td>\n",
       "      <td>204657</td>\n",
       "      <td>2017-11-10 10:24:54</td>\n",
       "      <td>0</td>\n",
       "      <td>0</td>\n",
       "      <td>1</td>\n",
       "      <td>1</td>\n",
       "      <td>0</td>\n",
       "      <td>0</td>\n",
       "    </tr>\n",
       "  </tbody>\n",
       "</table>\n",
       "</div>"
      ],
      "text/plain": [
       "  CARD_EXPR_DATE  AMOUNT AMOUNT_INST           DATE_TIME PDC_CARD_PRES  \\\n",
       "1           1910  139730      168556 2017-10-05 11:22:05             0   \n",
       "2           1904     999        3636 2017-10-21 16:53:22             0   \n",
       "3           2012   17674       64333 2017-12-04 04:23:43             0   \n",
       "4           2210    7430        7430 2017-11-24 15:02:05             0   \n",
       "5           1912  170000      204657 2017-11-10 10:24:54             0   \n",
       "\n",
       "  PDC_CARD_CAPTURE_CAP CVV2_PRES AUTH_RESP_CODE_FM PIN_PRES MARKED_DATE  \n",
       "1                    0         1                 1        0           0  \n",
       "2                    0         0                 1        0           0  \n",
       "3                    0         0                 1        0           0  \n",
       "4                    0         1                 1        0           0  \n",
       "5                    0         1                 1        0           0  "
      ]
     },
     "execution_count": 143,
     "metadata": {},
     "output_type": "execute_result"
    }
   ],
   "source": [
    "proc_df.head()"
   ]
  },
  {
   "cell_type": "code",
   "execution_count": null,
   "id": "906aed19",
   "metadata": {},
   "outputs": [],
   "source": []
  },
  {
   "cell_type": "code",
   "execution_count": null,
   "id": "d48acabc",
   "metadata": {},
   "outputs": [],
   "source": []
  },
  {
   "cell_type": "code",
   "execution_count": null,
   "id": "897e07c1",
   "metadata": {},
   "outputs": [],
   "source": []
  },
  {
   "cell_type": "code",
   "execution_count": null,
   "id": "4db5da03",
   "metadata": {},
   "outputs": [],
   "source": []
  },
  {
   "cell_type": "code",
   "execution_count": null,
   "id": "dd77f2e4",
   "metadata": {},
   "outputs": [],
   "source": []
  },
  {
   "cell_type": "code",
   "execution_count": 144,
   "id": "dec90f1a",
   "metadata": {},
   "outputs": [],
   "source": [
    "columns = list(proc_df)\n"
   ]
  },
  {
   "cell_type": "code",
   "execution_count": 145,
   "id": "1345a9e6",
   "metadata": {},
   "outputs": [],
   "source": [
    "for i in range(10):\n",
    "    if columns[i] != 'DATE_TIME':\n",
    "        proc_df = proc_df.astype({columns[i]: \"int64\"})"
   ]
  },
  {
   "cell_type": "code",
   "execution_count": 146,
   "id": "67c85eca",
   "metadata": {},
   "outputs": [
    {
     "data": {
      "text/plain": [
       "CARD_EXPR_DATE                   int64\n",
       "AMOUNT                           int64\n",
       "AMOUNT_INST                      int64\n",
       "DATE_TIME               datetime64[ns]\n",
       "PDC_CARD_PRES                    int64\n",
       "PDC_CARD_CAPTURE_CAP             int64\n",
       "CVV2_PRES                        int64\n",
       "AUTH_RESP_CODE_FM                int64\n",
       "PIN_PRES                         int64\n",
       "MARKED_DATE                      int64\n",
       "dtype: object"
      ]
     },
     "execution_count": 146,
     "metadata": {},
     "output_type": "execute_result"
    }
   ],
   "source": [
    "proc_df.dtypes"
   ]
  },
  {
   "cell_type": "code",
   "execution_count": 147,
   "id": "f657e9a9",
   "metadata": {},
   "outputs": [],
   "source": [
    "proc_df = proc_df.sort_values('DATE_TIME')"
   ]
  },
  {
   "cell_type": "code",
   "execution_count": 148,
   "id": "3bd263a1",
   "metadata": {},
   "outputs": [
    {
     "data": {
      "text/html": [
       "<div>\n",
       "<style scoped>\n",
       "    .dataframe tbody tr th:only-of-type {\n",
       "        vertical-align: middle;\n",
       "    }\n",
       "\n",
       "    .dataframe tbody tr th {\n",
       "        vertical-align: top;\n",
       "    }\n",
       "\n",
       "    .dataframe thead th {\n",
       "        text-align: right;\n",
       "    }\n",
       "</style>\n",
       "<table border=\"1\" class=\"dataframe\">\n",
       "  <thead>\n",
       "    <tr style=\"text-align: right;\">\n",
       "      <th></th>\n",
       "      <th>CARD_EXPR_DATE</th>\n",
       "      <th>AMOUNT</th>\n",
       "      <th>AMOUNT_INST</th>\n",
       "      <th>DATE_TIME</th>\n",
       "      <th>PDC_CARD_PRES</th>\n",
       "      <th>PDC_CARD_CAPTURE_CAP</th>\n",
       "      <th>CVV2_PRES</th>\n",
       "      <th>AUTH_RESP_CODE_FM</th>\n",
       "      <th>PIN_PRES</th>\n",
       "      <th>MARKED_DATE</th>\n",
       "    </tr>\n",
       "  </thead>\n",
       "  <tbody>\n",
       "    <tr>\n",
       "      <th>55047</th>\n",
       "      <td>2012</td>\n",
       "      <td>7992</td>\n",
       "      <td>10262</td>\n",
       "      <td>2017-07-19 00:00:00</td>\n",
       "      <td>0</td>\n",
       "      <td>1</td>\n",
       "      <td>0</td>\n",
       "      <td>1</td>\n",
       "      <td>0</td>\n",
       "      <td>0</td>\n",
       "    </tr>\n",
       "    <tr>\n",
       "      <th>55048</th>\n",
       "      <td>2012</td>\n",
       "      <td>3282</td>\n",
       "      <td>4214</td>\n",
       "      <td>2017-07-19 00:00:00</td>\n",
       "      <td>0</td>\n",
       "      <td>1</td>\n",
       "      <td>0</td>\n",
       "      <td>1</td>\n",
       "      <td>0</td>\n",
       "      <td>0</td>\n",
       "    </tr>\n",
       "    <tr>\n",
       "      <th>29254</th>\n",
       "      <td>1810</td>\n",
       "      <td>100</td>\n",
       "      <td>100</td>\n",
       "      <td>2017-08-13 02:53:22</td>\n",
       "      <td>0</td>\n",
       "      <td>0</td>\n",
       "      <td>1</td>\n",
       "      <td>1</td>\n",
       "      <td>0</td>\n",
       "      <td>0</td>\n",
       "    </tr>\n",
       "    <tr>\n",
       "      <th>46970</th>\n",
       "      <td>1911</td>\n",
       "      <td>100</td>\n",
       "      <td>100</td>\n",
       "      <td>2017-08-13 03:11:18</td>\n",
       "      <td>0</td>\n",
       "      <td>0</td>\n",
       "      <td>1</td>\n",
       "      <td>1</td>\n",
       "      <td>0</td>\n",
       "      <td>0</td>\n",
       "    </tr>\n",
       "    <tr>\n",
       "      <th>46969</th>\n",
       "      <td>1911</td>\n",
       "      <td>379</td>\n",
       "      <td>104</td>\n",
       "      <td>2017-08-13 03:12:44</td>\n",
       "      <td>0</td>\n",
       "      <td>0</td>\n",
       "      <td>0</td>\n",
       "      <td>1</td>\n",
       "      <td>0</td>\n",
       "      <td>0</td>\n",
       "    </tr>\n",
       "  </tbody>\n",
       "</table>\n",
       "</div>"
      ],
      "text/plain": [
       "       CARD_EXPR_DATE  AMOUNT  AMOUNT_INST           DATE_TIME  PDC_CARD_PRES  \\\n",
       "55047            2012    7992        10262 2017-07-19 00:00:00              0   \n",
       "55048            2012    3282         4214 2017-07-19 00:00:00              0   \n",
       "29254            1810     100          100 2017-08-13 02:53:22              0   \n",
       "46970            1911     100          100 2017-08-13 03:11:18              0   \n",
       "46969            1911     379          104 2017-08-13 03:12:44              0   \n",
       "\n",
       "       PDC_CARD_CAPTURE_CAP  CVV2_PRES  AUTH_RESP_CODE_FM  PIN_PRES  \\\n",
       "55047                     1          0                  1         0   \n",
       "55048                     1          0                  1         0   \n",
       "29254                     0          1                  1         0   \n",
       "46970                     0          1                  1         0   \n",
       "46969                     0          0                  1         0   \n",
       "\n",
       "       MARKED_DATE  \n",
       "55047            0  \n",
       "55048            0  \n",
       "29254            0  \n",
       "46970            0  \n",
       "46969            0  "
      ]
     },
     "execution_count": 148,
     "metadata": {},
     "output_type": "execute_result"
    }
   ],
   "source": [
    "proc_df.head()"
   ]
  },
  {
   "cell_type": "code",
   "execution_count": 149,
   "id": "4bd26192",
   "metadata": {},
   "outputs": [],
   "source": [
    "proc_df['DATE_TIME'] = proc_df['DATE_TIME'].diff().dt.seconds.div(3600, fill_value=0)"
   ]
  },
  {
   "cell_type": "code",
   "execution_count": 150,
   "id": "ab4f6781",
   "metadata": {},
   "outputs": [
    {
     "data": {
      "text/html": [
       "<div>\n",
       "<style scoped>\n",
       "    .dataframe tbody tr th:only-of-type {\n",
       "        vertical-align: middle;\n",
       "    }\n",
       "\n",
       "    .dataframe tbody tr th {\n",
       "        vertical-align: top;\n",
       "    }\n",
       "\n",
       "    .dataframe thead th {\n",
       "        text-align: right;\n",
       "    }\n",
       "</style>\n",
       "<table border=\"1\" class=\"dataframe\">\n",
       "  <thead>\n",
       "    <tr style=\"text-align: right;\">\n",
       "      <th></th>\n",
       "      <th>CARD_EXPR_DATE</th>\n",
       "      <th>AMOUNT</th>\n",
       "      <th>AMOUNT_INST</th>\n",
       "      <th>DATE_TIME</th>\n",
       "      <th>PDC_CARD_PRES</th>\n",
       "      <th>PDC_CARD_CAPTURE_CAP</th>\n",
       "      <th>CVV2_PRES</th>\n",
       "      <th>AUTH_RESP_CODE_FM</th>\n",
       "      <th>PIN_PRES</th>\n",
       "      <th>MARKED_DATE</th>\n",
       "    </tr>\n",
       "  </thead>\n",
       "  <tbody>\n",
       "    <tr>\n",
       "      <th>55047</th>\n",
       "      <td>2012</td>\n",
       "      <td>7992</td>\n",
       "      <td>10262</td>\n",
       "      <td>0.000000</td>\n",
       "      <td>0</td>\n",
       "      <td>1</td>\n",
       "      <td>0</td>\n",
       "      <td>1</td>\n",
       "      <td>0</td>\n",
       "      <td>0</td>\n",
       "    </tr>\n",
       "    <tr>\n",
       "      <th>55048</th>\n",
       "      <td>2012</td>\n",
       "      <td>3282</td>\n",
       "      <td>4214</td>\n",
       "      <td>0.000000</td>\n",
       "      <td>0</td>\n",
       "      <td>1</td>\n",
       "      <td>0</td>\n",
       "      <td>1</td>\n",
       "      <td>0</td>\n",
       "      <td>0</td>\n",
       "    </tr>\n",
       "    <tr>\n",
       "      <th>29254</th>\n",
       "      <td>1810</td>\n",
       "      <td>100</td>\n",
       "      <td>100</td>\n",
       "      <td>2.889444</td>\n",
       "      <td>0</td>\n",
       "      <td>0</td>\n",
       "      <td>1</td>\n",
       "      <td>1</td>\n",
       "      <td>0</td>\n",
       "      <td>0</td>\n",
       "    </tr>\n",
       "    <tr>\n",
       "      <th>46970</th>\n",
       "      <td>1911</td>\n",
       "      <td>100</td>\n",
       "      <td>100</td>\n",
       "      <td>0.298889</td>\n",
       "      <td>0</td>\n",
       "      <td>0</td>\n",
       "      <td>1</td>\n",
       "      <td>1</td>\n",
       "      <td>0</td>\n",
       "      <td>0</td>\n",
       "    </tr>\n",
       "    <tr>\n",
       "      <th>46969</th>\n",
       "      <td>1911</td>\n",
       "      <td>379</td>\n",
       "      <td>104</td>\n",
       "      <td>0.023889</td>\n",
       "      <td>0</td>\n",
       "      <td>0</td>\n",
       "      <td>0</td>\n",
       "      <td>1</td>\n",
       "      <td>0</td>\n",
       "      <td>0</td>\n",
       "    </tr>\n",
       "  </tbody>\n",
       "</table>\n",
       "</div>"
      ],
      "text/plain": [
       "       CARD_EXPR_DATE  AMOUNT  AMOUNT_INST  DATE_TIME  PDC_CARD_PRES  \\\n",
       "55047            2012    7992        10262   0.000000              0   \n",
       "55048            2012    3282         4214   0.000000              0   \n",
       "29254            1810     100          100   2.889444              0   \n",
       "46970            1911     100          100   0.298889              0   \n",
       "46969            1911     379          104   0.023889              0   \n",
       "\n",
       "       PDC_CARD_CAPTURE_CAP  CVV2_PRES  AUTH_RESP_CODE_FM  PIN_PRES  \\\n",
       "55047                     1          0                  1         0   \n",
       "55048                     1          0                  1         0   \n",
       "29254                     0          1                  1         0   \n",
       "46970                     0          1                  1         0   \n",
       "46969                     0          0                  1         0   \n",
       "\n",
       "       MARKED_DATE  \n",
       "55047            0  \n",
       "55048            0  \n",
       "29254            0  \n",
       "46970            0  \n",
       "46969            0  "
      ]
     },
     "execution_count": 150,
     "metadata": {},
     "output_type": "execute_result"
    }
   ],
   "source": [
    "proc_df.head()"
   ]
  },
  {
   "cell_type": "code",
   "execution_count": null,
   "id": "8423c8b5",
   "metadata": {},
   "outputs": [],
   "source": []
  },
  {
   "cell_type": "code",
   "execution_count": 151,
   "id": "6fa82fb9",
   "metadata": {},
   "outputs": [
    {
     "data": {
      "text/plain": [
       "23.636388888888888"
      ]
     },
     "execution_count": 151,
     "metadata": {},
     "output_type": "execute_result"
    }
   ],
   "source": [
    "proc_df['DATE_TIME'].max()"
   ]
  },
  {
   "cell_type": "code",
   "execution_count": 152,
   "id": "d07d08dc",
   "metadata": {},
   "outputs": [
    {
     "data": {
      "text/plain": [
       "55047    2012\n",
       "55048    2012\n",
       "29254    1810\n",
       "46970    1911\n",
       "46969    1911\n",
       "         ... \n",
       "5248     2211\n",
       "24871    1905\n",
       "10558    2208\n",
       "30254    1911\n",
       "679      2204\n",
       "Name: CARD_EXPR_DATE, Length: 64999, dtype: int64"
      ]
     },
     "execution_count": 152,
     "metadata": {},
     "output_type": "execute_result"
    }
   ],
   "source": [
    "proc_df['CARD_EXPR_DATE']"
   ]
  },
  {
   "cell_type": "code",
   "execution_count": 153,
   "id": "48cc52e2",
   "metadata": {},
   "outputs": [
    {
     "data": {
      "text/plain": [
       "1426706600"
      ]
     },
     "execution_count": 153,
     "metadata": {},
     "output_type": "execute_result"
    }
   ],
   "source": [
    "proc_df['AMOUNT'].max()"
   ]
  },
  {
   "cell_type": "code",
   "execution_count": 154,
   "id": "655a9030",
   "metadata": {},
   "outputs": [],
   "source": [
    "proc_df['AMOUNT'] = proc_df['AMOUNT'] / 1426706600 * 10"
   ]
  },
  {
   "cell_type": "code",
   "execution_count": 155,
   "id": "97afd62a",
   "metadata": {},
   "outputs": [],
   "source": [
    "# np.exp(500)"
   ]
  },
  {
   "cell_type": "code",
   "execution_count": 156,
   "id": "1c000e4d",
   "metadata": {},
   "outputs": [
    {
     "data": {
      "text/plain": [
       "39833837"
      ]
     },
     "execution_count": 156,
     "metadata": {},
     "output_type": "execute_result"
    }
   ],
   "source": [
    "proc_df['AMOUNT_INST'].max()"
   ]
  },
  {
   "cell_type": "code",
   "execution_count": 157,
   "id": "ea1802fb",
   "metadata": {},
   "outputs": [],
   "source": [
    "proc_df['AMOUNT_INST'] = proc_df['AMOUNT_INST'] / 39833837 * 10"
   ]
  },
  {
   "cell_type": "code",
   "execution_count": 158,
   "id": "a09fe759",
   "metadata": {},
   "outputs": [
    {
     "data": {
      "text/plain": [
       "9912"
      ]
     },
     "execution_count": 158,
     "metadata": {},
     "output_type": "execute_result"
    }
   ],
   "source": [
    "proc_df['CARD_EXPR_DATE'].max()"
   ]
  },
  {
   "cell_type": "code",
   "execution_count": 159,
   "id": "cf6eb96c",
   "metadata": {},
   "outputs": [],
   "source": [
    "proc_df['CARD_EXPR_DATE'] = proc_df['CARD_EXPR_DATE'] / 9912 * 10"
   ]
  },
  {
   "cell_type": "code",
   "execution_count": 160,
   "id": "a9608181",
   "metadata": {},
   "outputs": [
    {
     "data": {
      "text/html": [
       "<div>\n",
       "<style scoped>\n",
       "    .dataframe tbody tr th:only-of-type {\n",
       "        vertical-align: middle;\n",
       "    }\n",
       "\n",
       "    .dataframe tbody tr th {\n",
       "        vertical-align: top;\n",
       "    }\n",
       "\n",
       "    .dataframe thead th {\n",
       "        text-align: right;\n",
       "    }\n",
       "</style>\n",
       "<table border=\"1\" class=\"dataframe\">\n",
       "  <thead>\n",
       "    <tr style=\"text-align: right;\">\n",
       "      <th></th>\n",
       "      <th>CARD_EXPR_DATE</th>\n",
       "      <th>AMOUNT</th>\n",
       "      <th>AMOUNT_INST</th>\n",
       "      <th>DATE_TIME</th>\n",
       "      <th>PDC_CARD_PRES</th>\n",
       "      <th>PDC_CARD_CAPTURE_CAP</th>\n",
       "      <th>CVV2_PRES</th>\n",
       "      <th>AUTH_RESP_CODE_FM</th>\n",
       "      <th>PIN_PRES</th>\n",
       "      <th>MARKED_DATE</th>\n",
       "    </tr>\n",
       "  </thead>\n",
       "  <tbody>\n",
       "    <tr>\n",
       "      <th>55047</th>\n",
       "      <td>2.029863</td>\n",
       "      <td>5.601712e-05</td>\n",
       "      <td>0.002576</td>\n",
       "      <td>0.000000</td>\n",
       "      <td>0</td>\n",
       "      <td>1</td>\n",
       "      <td>0</td>\n",
       "      <td>1</td>\n",
       "      <td>0</td>\n",
       "      <td>0</td>\n",
       "    </tr>\n",
       "    <tr>\n",
       "      <th>55048</th>\n",
       "      <td>2.029863</td>\n",
       "      <td>2.300403e-05</td>\n",
       "      <td>0.001058</td>\n",
       "      <td>0.000000</td>\n",
       "      <td>0</td>\n",
       "      <td>1</td>\n",
       "      <td>0</td>\n",
       "      <td>1</td>\n",
       "      <td>0</td>\n",
       "      <td>0</td>\n",
       "    </tr>\n",
       "    <tr>\n",
       "      <th>29254</th>\n",
       "      <td>1.826069</td>\n",
       "      <td>7.009150e-07</td>\n",
       "      <td>0.000025</td>\n",
       "      <td>2.889444</td>\n",
       "      <td>0</td>\n",
       "      <td>0</td>\n",
       "      <td>1</td>\n",
       "      <td>1</td>\n",
       "      <td>0</td>\n",
       "      <td>0</td>\n",
       "    </tr>\n",
       "    <tr>\n",
       "      <th>46970</th>\n",
       "      <td>1.927966</td>\n",
       "      <td>7.009150e-07</td>\n",
       "      <td>0.000025</td>\n",
       "      <td>0.298889</td>\n",
       "      <td>0</td>\n",
       "      <td>0</td>\n",
       "      <td>1</td>\n",
       "      <td>1</td>\n",
       "      <td>0</td>\n",
       "      <td>0</td>\n",
       "    </tr>\n",
       "    <tr>\n",
       "      <th>46969</th>\n",
       "      <td>1.927966</td>\n",
       "      <td>2.656468e-06</td>\n",
       "      <td>0.000026</td>\n",
       "      <td>0.023889</td>\n",
       "      <td>0</td>\n",
       "      <td>0</td>\n",
       "      <td>0</td>\n",
       "      <td>1</td>\n",
       "      <td>0</td>\n",
       "      <td>0</td>\n",
       "    </tr>\n",
       "  </tbody>\n",
       "</table>\n",
       "</div>"
      ],
      "text/plain": [
       "       CARD_EXPR_DATE        AMOUNT  AMOUNT_INST  DATE_TIME  PDC_CARD_PRES  \\\n",
       "55047        2.029863  5.601712e-05     0.002576   0.000000              0   \n",
       "55048        2.029863  2.300403e-05     0.001058   0.000000              0   \n",
       "29254        1.826069  7.009150e-07     0.000025   2.889444              0   \n",
       "46970        1.927966  7.009150e-07     0.000025   0.298889              0   \n",
       "46969        1.927966  2.656468e-06     0.000026   0.023889              0   \n",
       "\n",
       "       PDC_CARD_CAPTURE_CAP  CVV2_PRES  AUTH_RESP_CODE_FM  PIN_PRES  \\\n",
       "55047                     1          0                  1         0   \n",
       "55048                     1          0                  1         0   \n",
       "29254                     0          1                  1         0   \n",
       "46970                     0          1                  1         0   \n",
       "46969                     0          0                  1         0   \n",
       "\n",
       "       MARKED_DATE  \n",
       "55047            0  \n",
       "55048            0  \n",
       "29254            0  \n",
       "46970            0  \n",
       "46969            0  "
      ]
     },
     "execution_count": 160,
     "metadata": {},
     "output_type": "execute_result"
    }
   ],
   "source": [
    "proc_df.head()"
   ]
  },
  {
   "cell_type": "code",
   "execution_count": null,
   "id": "7006a93e",
   "metadata": {},
   "outputs": [],
   "source": []
  },
  {
   "cell_type": "code",
   "execution_count": null,
   "id": "aa68a9b9",
   "metadata": {},
   "outputs": [],
   "source": []
  },
  {
   "cell_type": "code",
   "execution_count": 161,
   "id": "bc68c52c",
   "metadata": {},
   "outputs": [],
   "source": [
    "proc_df.to_csv('processed dataset.csv', sep='\\t')"
   ]
  }
 ],
 "metadata": {
  "kernelspec": {
   "display_name": "Python 3",
   "language": "python",
   "name": "python3"
  },
  "language_info": {
   "codemirror_mode": {
    "name": "ipython",
    "version": 3
   },
   "file_extension": ".py",
   "mimetype": "text/x-python",
   "name": "python",
   "nbconvert_exporter": "python",
   "pygments_lexer": "ipython3",
   "version": "3.9.12"
  }
 },
 "nbformat": 4,
 "nbformat_minor": 5
}
